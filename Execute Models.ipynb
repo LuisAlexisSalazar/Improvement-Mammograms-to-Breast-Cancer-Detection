{
 "cells": [
  {
   "cell_type": "code",
   "execution_count": 12,
   "id": "e603d0c1",
   "metadata": {
    "pycharm": {
     "name": "#%%\n"
    }
   },
   "outputs": [],
   "source": [
    "# from src.download_dataset.download import *\n",
    "#\n",
    "# list_mode = [\"ClassBMN\"]\n",
    "#\n",
    "# for mode in list_mode:\n",
    "#     download_data(\"MINI-DDSM\", mode)\n",
    "#\n",
    "# for mode in list_mode:\n",
    "#     download_data(\"MIAS\", mode)"
   ]
  },
  {
   "cell_type": "code",
   "execution_count": 1,
   "id": "ebc0b327",
   "metadata": {},
   "outputs": [
    {
     "name": "stdout",
     "output_type": "stream",
     "text": [
      "Numero de GPU disponibles:  1\n",
      "Dispositivo de GPU por defecto: /device:GPU:0\n"
     ]
    }
   ],
   "source": [
    "from src.utils.gpu import print_num_gpus_available\n",
    "\n",
    "print_num_gpus_available()"
   ]
  },
  {
   "cell_type": "code",
   "execution_count": 1,
   "id": "60023f17",
   "metadata": {},
   "outputs": [
    {
     "name": "stderr",
     "output_type": "stream",
     "text": [
      "E:\\anaconda3\\envs\\env_breast_cancer\\lib\\site-packages\\tensorflow_addons\\utils\\ensure_tf_install.py:53: UserWarning: Tensorflow Addons supports using Python ops for all Tensorflow versions above or equal to 2.7.0 and strictly below 2.10.0 (nightly versions are not supported). \n",
      " The versions of TensorFlow you are currently using is 2.6.0 and is not supported. \n",
      "Some things might work, some things might not.\n",
      "If you were to encounter a bug, do not file an issue.\n",
      "If you want to make sure you're using a tested and supported configuration, either change the TensorFlow version or the TensorFlow Addons's version. \n",
      "You can find the compatibility matrix in TensorFlow Addon's readme:\n",
      "https://github.com/tensorflow/addons\n",
      "  warnings.warn(\n"
     ]
    },
    {
     "name": "stdout",
     "output_type": "stream",
     "text": [
      "Primeras configuraciones terminadas...\n",
      "data/data_aug/MIAS/Binary(BM)N_off_brint/\n"
     ]
    }
   ],
   "source": [
    "from src.settings import config\n",
    "from src.utils.utils import *\n",
    "import matplotlib.pyplot as plt\n",
    "from src.parameters.image_parameters import *\n",
    "from src.parameters.model_parameters import *\n",
    "import tensorflow as tf\n",
    "\n",
    "# --------------Configuraciones Iniciales---------------------------------\n",
    "config.DEBUG_MODE = False\n",
    "config.DEBUG_MODE_MODELS = True\n",
    "config.SAVE_MODEL_COMPLETE_MLFlow = False\n",
    "config.LOG_MODEL_MLFlow = False\n",
    "config.LOG_JSON_TXT_MODEL_MLFlow = True\n",
    "config.USE_DESCRIPTOR = True\n",
    "# -------------Configuraciones del Pipeline--------\n",
    "# mode_classification = \"ClassBMN\"\n",
    "mode_classification = \"Binary(BM)N\"\n",
    "folder_to_class = \"Binary(BM)N_off_brint/\"\n",
    "dataset = \"MIAS\"\n",
    "# dataset = \"MIAS\"\n",
    "type_data = \"data_aug\"\n",
    "\n",
    "width_shape = 224\n",
    "height_shape = 224\n",
    "# epochs = 2\n",
    "epochs = 16\n",
    "# batch_size = 3\n",
    "batch_size = 64\n",
    "# 'categorical'\n",
    "class_mode = definite_class_mode(mode_classification)\n",
    "# color_mode = definite_mode_read() #grayscale\n",
    "# color_mode = 'rgb'  \n",
    "color_mode = 'grayscale'\n",
    "# --------------Parametros del Modelo para compilar----------\n",
    "from tensorflow.keras.optimizers import Adam, SGD, Adadelta, RMSprop\n",
    "from tensorflow.keras.losses import sparse_categorical_crossentropy, categorical_crossentropy\n",
    "\n",
    "#'binary_crossentropy' 'categorical_crossentropy'\n",
    "loss = definition_loss(mode_classification)\n",
    "# loss = definition_loss(mode_classification)\n",
    "# loss = sparse_categorical_crossentropy\n",
    "# loss = categorical_crossentropy\n",
    "\n",
    "learning_rate = 1e-3\n",
    "# learning_rate = 1e-5\n",
    "optimizer = Adam(learning_rate=learning_rate)\n",
    "# optimizer = RMSprop(learning_rate=learning_rate)\n",
    "# Precision, Recall,CategoricalAccuracy\n",
    "list_metric = get_list_metrics(mode_classification)\n",
    "# validation_split = 0.2\n",
    "validation_split = 0.2\n",
    "print(\"Primeras configuraciones terminadas...\")\n",
    "path_to_classification = \"data/\" + type_data + \"/\" + dataset + \"/\" + folder_to_class\n",
    "print(path_to_classification)"
   ]
  },
  {
   "cell_type": "code",
   "execution_count": 2,
   "id": "f742fd18",
   "metadata": {},
   "outputs": [
    {
     "name": "stdout",
     "output_type": "stream",
     "text": [
      "Tumoral: 20520\n",
      "Normal: 21960\n",
      "Carpeta de clasificación: Binary(BM)N\n",
      "epochs: 16\n",
      "batch size: 64\n",
      "class mode: binary\n",
      "color mode: grayscale\n",
      "Loss: binary_crossentropy\n",
      "optimizer: <keras.optimizer_v2.adam.Adam object at 0x000001EC4D7C3CA0>\n",
      "Taza de aprendisaje: 0.001\n",
      "Metricas: ['precision', 'recall', 'binary_accuracy']\n",
      "Porcentaje para validación: 0.2\n",
      "Path de datos: data/data_aug/MIAS/Binary(BM)N_off_brint/\n",
      "Fin de la configuración\n"
     ]
    }
   ],
   "source": [
    "amount_images_to_classification(path_to_classification, mode_classification)\n",
    "print(\"Carpeta de clasificación:\", mode_classification)\n",
    "print(\"epochs:\", epochs)\n",
    "print(\"batch size:\", batch_size)\n",
    "print(\"class mode:\", class_mode)\n",
    "print(\"color mode:\", color_mode)\n",
    "print(\"Loss:\", loss)\n",
    "print(\"optimizer:\", str(optimizer))\n",
    "print(\"Taza de aprendisaje:\", learning_rate)\n",
    "print(\"Metricas:\", list(map(name_metric, list_metric)))\n",
    "print(\"Porcentaje para validación:\", validation_split)\n",
    "print(\"Path de datos:\", path_to_classification)\n",
    "print(\"Fin de la configuración\")"
   ]
  },
  {
   "cell_type": "code",
   "execution_count": 11,
   "id": "e70d5434",
   "metadata": {
    "pycharm": {
     "name": "#%%\n"
    }
   },
   "outputs": [
    {
     "name": "stdout",
     "output_type": "stream",
     "text": [
      "Found 33984 images belonging to 2 classes.\n",
      "Found 8496 images belonging to 2 classes.\n",
      "División de datos de entrenamiento y prueba completado\n",
      "Shape Img del data gen: (128, 128, 1)\n",
      "N dim: 3\n"
     ]
    },
    {
     "data": {
      "image/png": "[encoded data removed]",
      "text/plain": [
       "<Figure size 432x288 with 1 Axes>"
      ]
     },
     "metadata": {
      "needs_background": "light"
     },
     "output_type": "display_data"
    }
   ],
   "source": [
    "def show_imgs_titles(imgs, titles):\n",
    "    fig, (ax1, ax2, ax3) = plt.subplots(1, 3)\n",
    "\n",
    "    ax1.imshow(imgs[0], cmap='gray')\n",
    "    ax1.set_title(titles[0])\n",
    "    ax1.axis('off')\n",
    "\n",
    "    ax2.imshow(imgs[1], cmap='gray')\n",
    "    ax2.set_title(titles[1])\n",
    "    ax2.axis('off')\n",
    "\n",
    "    ax3.imshow(imgs[2], cmap='gray')\n",
    "    ax3.set_title(titles[2])\n",
    "    ax3.axis('off')\n",
    "\n",
    "    plt.show()\n",
    "\n",
    "\n",
    "datagen = ImageDataGenerator(\n",
    "    # rescale=1. / 255,\n",
    "    # dtype='uint8',\n",
    "    fill_mode=\"nearest\",\n",
    "    validation_split=validation_split\n",
    ")\n",
    "batch_size_imgs = 1\n",
    "data_gen_train = datagen.flow_from_directory(path_to_classification,\n",
    "                                             batch_size=batch_size_imgs,\n",
    "                                             class_mode=class_mode,  #save_to_dir='',\n",
    "                                             subset='training',\n",
    "                                             target_size=(128, 128),\n",
    "                                             color_mode=color_mode)\n",
    "data_gen_test = datagen.flow_from_directory(path_to_classification,\n",
    "                                            batch_size=batch_size_imgs,\n",
    "                                            target_size=(128, 128),\n",
    "                                            class_mode=class_mode,\n",
    "                                            subset='validation',\n",
    "                                            color_mode=color_mode)\n",
    "print(\"División de datos de entrenamiento y prueba completado\")\n",
    "#Imprimir 10 imagenes del generador de entrenamiento\n",
    "x = data_gen_train.next()\n",
    "# name_file = data_gen_train.filepaths\n",
    "# print(name_file)\n",
    "for i in range(0, 1):\n",
    "    imagen = x[i][0]\n",
    "    print(\"Shape Img del data gen:\", imagen.shape)\n",
    "    print(\"N dim:\", imagen.ndim)\n",
    "        \n",
    "    # ------------Mostrar en rgb---------------\n",
    "    # ? imagen -> 224 224 3\n",
    "#     b, g, r = imagen[:, :, 0], imagen[:, :, 1], imagen[:, :, 2]\n",
    "#     print(b.shape)\n",
    "#     print(g.shape)\n",
    "#     print(r.shape)\n",
    "#     imgs = [b, g, r]\n",
    "#     titles = [\"Imagen Procesada\", \"Brint S\", \"Brint M\"]\n",
    "#     show_imgs_titles(imgs, titles)\n",
    "    \n",
    "    plt.imshow(imagen, cmap='gray')\n",
    "#     plt.imshow(imagen)\n",
    "    plt.show()\n",
    "    \n",
    "    # cv2.imwrite(\"ga1.tif\", imagen)\n",
    "    # cv2.imwrite(\"ga2.tif\", r)\n",
    "    # cv2.imwrite(\"ga3.tif\", g)\n",
    "    # cv2.imwrite(\"ga4.tif\", b)\n",
    "\n",
    "    # cv2.imshow('tif image',imagen)\n",
    "    # cv2.waitKey(0)\n",
    "    # ? Mostrar la imagen un camañ de formato .tif\n",
    "    # Otros esquemas de color: cmap=plt.cm.Spectral or cmap=plt.cm.hot\n",
    "    # https://stackoverflow.com/questions/34165941/how-to-display-tiff-file-in-color\n",
    "    # plt.imshow(imagen[:, :, 0], cmap=plt.cm.coolwarm)\n",
    "\n",
    "    # ? IMportante para verlo en color original como se guardo\n",
    "    # plt.imshow(imagen.astype('uint8'))\n",
    "   \n",
    "\n",
    "    # break"
   ]
  },
  {
   "cell_type": "code",
   "execution_count": 9,
   "id": "958ba714",
   "metadata": {},
   "outputs": [
    {
     "name": "stdout",
     "output_type": "stream",
     "text": [
      "Model: \"sequential_1\"\n",
      "_________________________________________________________________\n",
      "Layer (type)                 Output Shape              Param #   \n",
      "=================================================================\n",
      "conv2d_3 (Conv2D)            (None, 126, 126, 32)      320       \n",
      "_________________________________________________________________\n",
      "conv2d_4 (Conv2D)            (None, 124, 124, 64)      18496     \n",
      "_________________________________________________________________\n",
      "max_pooling2d_2 (MaxPooling2 (None, 62, 62, 64)        0         \n",
      "_________________________________________________________________\n",
      "conv2d_5 (Conv2D)            (None, 60, 60, 64)        36928     \n",
      "_________________________________________________________________\n",
      "max_pooling2d_3 (MaxPooling2 (None, 30, 30, 64)        0         \n",
      "_________________________________________________________________\n",
      "dropout_2 (Dropout)          (None, 30, 30, 64)        0         \n",
      "_________________________________________________________________\n",
      "dense_2 (Dense)              (None, 30, 30, 64)        4160      \n",
      "_________________________________________________________________\n",
      "dropout_3 (Dropout)          (None, 30, 30, 64)        0         \n",
      "_________________________________________________________________\n",
      "flatten_1 (Flatten)          (None, 57600)             0         \n",
      "_________________________________________________________________\n",
      "dense_3 (Dense)              (None, 1)                 57601     \n",
      "=================================================================\n",
      "Total params: 117,505\n",
      "Trainable params: 117,505\n",
      "Non-trainable params: 0\n",
      "_________________________________________________________________\n"
     ]
    }
   ],
   "source": [
    "from tensorflow.keras.layers import *\n",
    "from tensorflow.keras.models import Sequential, Model\n",
    "from tensorflow.keras.activations import *\n",
    "from keras.callbacks import TensorBoard\n",
    "from tensorflow.keras.callbacks import EarlyStopping, ModelCheckpoint\n",
    "from time import time\n",
    "\n",
    "\n",
    "def create_model_simple():\n",
    "    reg = tf.keras.regularizers.L2(l2=1e-5)\n",
    "    ini = tf.keras.initializers.RandomNormal(mean=0.0, stddev=0.02, seed=None)\n",
    "\n",
    "    model = Sequential()\n",
    "    model.add(Conv2D(32,\n",
    "                     kernel_size=(3, 3),\n",
    "                     activation='relu',\n",
    "                     kernel_initializer=ini,\n",
    "                     input_shape=(128, 128, 1)))\n",
    "    model.add(Conv2D(64,\n",
    "                     kernel_size=(3, 3),\n",
    "                     kernel_initializer=ini,\n",
    "                     activation='relu'))\n",
    "    model.add(MaxPool2D(pool_size=(2, 2)))\n",
    "    model.add(Conv2D(64,\n",
    "                     kernel_size=(3, 3),\n",
    "                     kernel_initializer=ini,\n",
    "                     activation='relu'))\n",
    "    model.add(MaxPool2D(pool_size=(2, 2)))\n",
    "    model.add(Dropout(0.25))\n",
    "\n",
    "    model.add(Dense(64,\n",
    "                    kernel_initializer=ini,\n",
    "                    activation='relu'))\n",
    "    model.add(Dropout(0.25))\n",
    "    model.add(Flatten())\n",
    "    model.add(Dense(1, activation='sigmoid'))\n",
    "    return model\n",
    "\n",
    "\n",
    "model = create_model_simple()\n",
    "optimizer = tf.keras.optimizers.Adam(\n",
    "    learning_rate=learning_rate)\n",
    "\n",
    "model.compile(optimizer=optimizer, loss=loss, metrics=list_metric)\n",
    "# model.compile(optimizer=optimizer,\n",
    "#               loss= 'binary_crossentropy',\n",
    "#               metrics=['accuracy'])\n",
    "model.summary()"
   ]
  },
  {
   "cell_type": "code",
   "execution_count": 5,
   "id": "15d2cbf1",
   "metadata": {},
   "outputs": [
    {
     "name": "stdout",
     "output_type": "stream",
     "text": [
      "\n",
      "Model: \"model\"\n",
      "_________________________________________________________________\n",
      "Layer (type)                 Output Shape              Param #   \n",
      "=================================================================\n",
      "input_1 (InputLayer)         [(None, 224, 224, 3)]     0         \n",
      "_________________________________________________________________\n",
      "block1_conv1 (Conv2D)        (None, 224, 224, 64)      1792      \n",
      "_________________________________________________________________\n",
      "block1_conv2 (Conv2D)        (None, 224, 224, 64)      36928     \n",
      "_________________________________________________________________\n",
      "block1_pool (MaxPooling2D)   (None, 112, 112, 64)      0         \n",
      "_________________________________________________________________\n",
      "block2_conv1 (Conv2D)        (None, 112, 112, 128)     73856     \n",
      "_________________________________________________________________\n",
      "block2_conv2 (Conv2D)        (None, 112, 112, 128)     147584    \n",
      "_________________________________________________________________\n",
      "block2_pool (MaxPooling2D)   (None, 56, 56, 128)       0         \n",
      "_________________________________________________________________\n",
      "block3_conv1 (Conv2D)        (None, 56, 56, 256)       295168    \n",
      "_________________________________________________________________\n",
      "block3_conv2 (Conv2D)        (None, 56, 56, 256)       590080    \n",
      "_________________________________________________________________\n",
      "block3_conv3 (Conv2D)        (None, 56, 56, 256)       590080    \n",
      "_________________________________________________________________\n",
      "block3_pool (MaxPooling2D)   (None, 28, 28, 256)       0         \n",
      "_________________________________________________________________\n",
      "block4_conv1 (Conv2D)        (None, 28, 28, 512)       1180160   \n",
      "_________________________________________________________________\n",
      "block4_conv2 (Conv2D)        (None, 28, 28, 512)       2359808   \n",
      "_________________________________________________________________\n",
      "block4_conv3 (Conv2D)        (None, 28, 28, 512)       2359808   \n",
      "_________________________________________________________________\n",
      "block4_pool (MaxPooling2D)   (None, 14, 14, 512)       0         \n",
      "_________________________________________________________________\n",
      "block5_conv1 (Conv2D)        (None, 14, 14, 512)       2359808   \n",
      "_________________________________________________________________\n",
      "block5_conv2 (Conv2D)        (None, 14, 14, 512)       2359808   \n",
      "_________________________________________________________________\n",
      "block5_conv3 (Conv2D)        (None, 14, 14, 512)       2359808   \n",
      "_________________________________________________________________\n",
      "block5_pool (MaxPooling2D)   (None, 7, 7, 512)         0         \n",
      "_________________________________________________________________\n",
      "flatten (Flatten)            (None, 25088)             0         \n",
      "_________________________________________________________________\n",
      "fc1 (Dense)                  (None, 128)               3211392   \n",
      "_________________________________________________________________\n",
      "fc2 (Dense)                  (None, 128)               16512     \n",
      "_________________________________________________________________\n",
      "output (Dense)               (None, 3)                 387       \n",
      "=================================================================\n",
      "Total params: 17,942,979\n",
      "Trainable params: 17,942,979\n",
      "Non-trainable params: 0\n",
      "_________________________________________________________________\n",
      "Summary en txt creado\n",
      "Arquitectura en json creado\n",
      "Modelo creando ..VGG16\n"
     ]
    }
   ],
   "source": [
    "from src.utils.utils import Save_model_summary_txt_architecture_json\n",
    "from src.models.Models import create_model, transfer_learning\n",
    "\n",
    "print(\"\")\n",
    "architectures_cnns = [\"ResNet50\", \"VGG16\", \"CNN\", \"MobilNet2\", \"VGG19\"]\n",
    "name_red = \"VGG16\"  #\"ResNet50\" #--VGG16--CNN--MobilNet2--VGG19\n",
    "model = create_model(name_model=name_red, mode_classification=mode_classification)\n",
    "if config.LOG_JSON_TXT_MODEL_MLFlow:\n",
    "    Save_model_summary_txt_architecture_json(model)\n",
    "config.USE_DESCRIPTOR = True\n",
    "print(\"Modelo creando ..\" + name_red)\n",
    "model.compile(optimizer=optimizer, loss=loss, metrics=list_metric)"
   ]
  },
  {
   "cell_type": "code",
   "execution_count": 17,
   "id": "b4e48728",
   "metadata": {
    "pycharm": {
     "name": "#%%\n"
    }
   },
   "outputs": [
    {
     "ename": "ValueError",
     "evalue": "`validation_split` is only supported for Tensors or NumPy arrays, found following types in the input: [<class 'keras.preprocessing.image.DirectoryIterator'>]",
     "output_type": "error",
     "traceback": [
      "\u001b[1;31m---------------------------------------------------------------------------\u001b[0m",
      "\u001b[1;31mValueError\u001b[0m                                Traceback (most recent call last)",
      "Input \u001b[1;32mIn [17]\u001b[0m, in \u001b[0;36m<cell line: 15>\u001b[1;34m()\u001b[0m\n\u001b[0;32m     12\u001b[0m model_check_point \u001b[38;5;241m=\u001b[39m ModelCheckpoint(filepath\u001b[38;5;241m=\u001b[39mcheck_point_filepath, monitor\u001b[38;5;241m=\u001b[39m\u001b[38;5;124m'\u001b[39m\u001b[38;5;124mval_loss\u001b[39m\u001b[38;5;124m'\u001b[39m, verbose\u001b[38;5;241m=\u001b[39m\u001b[38;5;241m1\u001b[39m, save_best_only\u001b[38;5;241m=\u001b[39m\u001b[38;5;28;01mTrue\u001b[39;00m,\n\u001b[0;32m     13\u001b[0m                                     save_weights_only\u001b[38;5;241m=\u001b[39m\u001b[38;5;28;01mFalse\u001b[39;00m, mode\u001b[38;5;241m=\u001b[39m\u001b[38;5;124m'\u001b[39m\u001b[38;5;124mauto\u001b[39m\u001b[38;5;124m'\u001b[39m, save_freq\u001b[38;5;241m=\u001b[39m\u001b[38;5;124m'\u001b[39m\u001b[38;5;124mepoch\u001b[39m\u001b[38;5;124m'\u001b[39m)\n\u001b[0;32m     14\u001b[0m epochs \u001b[38;5;241m=\u001b[39m \u001b[38;5;241m100\u001b[39m\n\u001b[1;32m---> 15\u001b[0m history \u001b[38;5;241m=\u001b[39m \u001b[43mmodel\u001b[49m\u001b[38;5;241;43m.\u001b[39;49m\u001b[43mfit\u001b[49m\u001b[43m(\u001b[49m\n\u001b[0;32m     16\u001b[0m \u001b[43m    \u001b[49m\u001b[43mdata_gen_train\u001b[49m\u001b[43m,\u001b[49m\u001b[43m \u001b[49m\u001b[43mepochs\u001b[49m\u001b[38;5;241;43m=\u001b[39;49m\u001b[43mepochs\u001b[49m\u001b[43m,\u001b[49m\u001b[43m \u001b[49m\u001b[43mbatch_size\u001b[49m\u001b[38;5;241;43m=\u001b[39;49m\u001b[43mbatch_size\u001b[49m\u001b[43m,\u001b[49m\u001b[43mvalidation_split\u001b[49m\u001b[38;5;241;43m=\u001b[39;49m\u001b[38;5;241;43m0.2\u001b[39;49m\u001b[43m,\u001b[49m\n\u001b[0;32m     17\u001b[0m \u001b[43m    \u001b[49m\u001b[43mcallbacks\u001b[49m\u001b[38;5;241;43m=\u001b[39;49m\u001b[43m[\u001b[49m\u001b[43mearly_stop\u001b[49m\u001b[43m,\u001b[49m\u001b[43m \u001b[49m\u001b[43mmodel_check_point\u001b[49m\u001b[43m]\u001b[49m\u001b[43m)\u001b[49m\n",
      "File \u001b[1;32mE:\\anaconda3\\envs\\env_breast_cancer\\lib\\site-packages\\keras\\engine\\training.py:1120\u001b[0m, in \u001b[0;36mModel.fit\u001b[1;34m(self, x, y, batch_size, epochs, verbose, callbacks, validation_split, validation_data, shuffle, class_weight, sample_weight, initial_epoch, steps_per_epoch, validation_steps, validation_batch_size, validation_freq, max_queue_size, workers, use_multiprocessing)\u001b[0m\n\u001b[0;32m   1114\u001b[0m     verbose \u001b[38;5;241m=\u001b[39m \u001b[38;5;241m1\u001b[39m  \u001b[38;5;66;03m# Default to batch-level logging otherwise.\u001b[39;00m\n\u001b[0;32m   1116\u001b[0m \u001b[38;5;28;01mif\u001b[39;00m validation_split:\n\u001b[0;32m   1117\u001b[0m   \u001b[38;5;66;03m# Create the validation data using the training data. Only supported for\u001b[39;00m\n\u001b[0;32m   1118\u001b[0m   \u001b[38;5;66;03m# `Tensor` and `NumPy` input.\u001b[39;00m\n\u001b[0;32m   1119\u001b[0m   (x, y, sample_weight), validation_data \u001b[38;5;241m=\u001b[39m (\n\u001b[1;32m-> 1120\u001b[0m       \u001b[43mdata_adapter\u001b[49m\u001b[38;5;241;43m.\u001b[39;49m\u001b[43mtrain_validation_split\u001b[49m\u001b[43m(\u001b[49m\n\u001b[0;32m   1121\u001b[0m \u001b[43m          \u001b[49m\u001b[43m(\u001b[49m\u001b[43mx\u001b[49m\u001b[43m,\u001b[49m\u001b[43m \u001b[49m\u001b[43my\u001b[49m\u001b[43m,\u001b[49m\u001b[43m \u001b[49m\u001b[43msample_weight\u001b[49m\u001b[43m)\u001b[49m\u001b[43m,\u001b[49m\u001b[43m \u001b[49m\u001b[43mvalidation_split\u001b[49m\u001b[38;5;241;43m=\u001b[39;49m\u001b[43mvalidation_split\u001b[49m\u001b[43m)\u001b[49m)\n\u001b[0;32m   1123\u001b[0m \u001b[38;5;28;01mif\u001b[39;00m validation_data:\n\u001b[0;32m   1124\u001b[0m   val_x, val_y, val_sample_weight \u001b[38;5;241m=\u001b[39m (\n\u001b[0;32m   1125\u001b[0m       data_adapter\u001b[38;5;241m.\u001b[39munpack_x_y_sample_weight(validation_data))\n",
      "File \u001b[1;32mE:\\anaconda3\\envs\\env_breast_cancer\\lib\\site-packages\\keras\\engine\\data_adapter.py:1477\u001b[0m, in \u001b[0;36mtrain_validation_split\u001b[1;34m(arrays, validation_split)\u001b[0m\n\u001b[0;32m   1475\u001b[0m unsplitable \u001b[38;5;241m=\u001b[39m [\u001b[38;5;28mtype\u001b[39m(t) \u001b[38;5;28;01mfor\u001b[39;00m t \u001b[38;5;129;01min\u001b[39;00m flat_arrays \u001b[38;5;28;01mif\u001b[39;00m \u001b[38;5;129;01mnot\u001b[39;00m _can_split(t)]\n\u001b[0;32m   1476\u001b[0m \u001b[38;5;28;01mif\u001b[39;00m unsplitable:\n\u001b[1;32m-> 1477\u001b[0m   \u001b[38;5;28;01mraise\u001b[39;00m \u001b[38;5;167;01mValueError\u001b[39;00m(\n\u001b[0;32m   1478\u001b[0m       \u001b[38;5;124m\"\u001b[39m\u001b[38;5;124m`validation_split` is only supported for Tensors or NumPy \u001b[39m\u001b[38;5;124m\"\u001b[39m\n\u001b[0;32m   1479\u001b[0m       \u001b[38;5;124m\"\u001b[39m\u001b[38;5;124marrays, found following types in the input: \u001b[39m\u001b[38;5;132;01m{}\u001b[39;00m\u001b[38;5;124m\"\u001b[39m\u001b[38;5;241m.\u001b[39mformat(unsplitable))\n\u001b[0;32m   1481\u001b[0m \u001b[38;5;28;01mif\u001b[39;00m \u001b[38;5;28mall\u001b[39m(t \u001b[38;5;129;01mis\u001b[39;00m \u001b[38;5;28;01mNone\u001b[39;00m \u001b[38;5;28;01mfor\u001b[39;00m t \u001b[38;5;129;01min\u001b[39;00m flat_arrays):\n\u001b[0;32m   1482\u001b[0m   \u001b[38;5;28;01mreturn\u001b[39;00m arrays, arrays\n",
      "\u001b[1;31mValueError\u001b[0m: `validation_split` is only supported for Tensors or NumPy arrays, found following types in the input: [<class 'keras.preprocessing.image.DirectoryIterator'>]"
     ]
    }
   ],
   "source": [
    "# epochs = 25\n",
    "# batch_size_red = 8\n",
    "# !fit_generator esta obsoleto\n",
    "from tensorflow.keras.callbacks import EarlyStopping\n",
    "\n",
    "# es = EarlyStopping(monitor='val_categorical_accuracy', mode='max', verbose=1)\n",
    "\n",
    "early_stop = EarlyStopping(monitor='val_loss', mode='min', patience=5, restore_best_weights=True, verbose=1)\n",
    "\n",
    "check_point_filepath = 'temp/'\n",
    "\n",
    "model_check_point = ModelCheckpoint(filepath=check_point_filepath, monitor='val_loss', verbose=1, save_best_only=True,\n",
    "                                    save_weights_only=False, mode='auto', save_freq='epoch')\n",
    "epochs = 100\n",
    "history = model.fit(\n",
    "    data_gen_train, epochs=epochs, batch_size=batch_size,validation_split=0.2,\n",
    "    callbacks=[early_stop, model_check_point])\n",
    "\n",
    "# if config.LOG_MODEL_MLFlow:\n",
    "#     tf.keras.models.save_model(model, \"temp/model/\")"
   ]
  },
  {
   "cell_type": "code",
   "execution_count": 15,
   "id": "bffd1c5e",
   "metadata": {
    "scrolled": false
   },
   "outputs": [
    {
     "name": "stdout",
     "output_type": "stream",
     "text": [
      "Todas las metricas guardadas\n"
     ]
    }
   ],
   "source": [
    "import mlflow\n",
    "from mlflow.entities import Metric\n",
    "from mlflow.tracking import MlflowClient\n",
    "\n",
    "mlflow_client = MlflowClient()\n",
    "EXPERIMENT_NAME = \"MIAS_Brint_2_2_new_experiments\"\n",
    "try:\n",
    "    EXPERIMENT_ID = mlflow.create_experiment(EXPERIMENT_NAME)\n",
    "except:\n",
    "    EXPERIMENT_ID = mlflow_client.get_experiment_by_name(EXPERIMENT_NAME).experiment_id\n",
    "name_red = \"simple_CNN\"\n",
    "transfer_learning = False\n",
    "with mlflow.start_run(experiment_id=EXPERIMENT_ID, run_name=name_red) as active_run:\n",
    "    # with mlflow.start_run(run_name=name_red) as active_run:\n",
    "    # mlflow_client = MlflowClient()\n",
    "    # experiment_id = mlflow_client.create_experiment(\"Mamografías CNNs experimentos\")\n",
    "    # experiment_id = \"0\"\n",
    "    # run = mlflow_client.create_run(experiment_id)\n",
    "    all_metrics = []\n",
    "    f1, val_f1 = get_F1_scores(history)\n",
    "    for metric_name in history.history:\n",
    "        for i in history.epoch:\n",
    "            metric = Metric(\n",
    "                key=metric_name,\n",
    "                value=history.history[metric_name][i],\n",
    "                timestamp=0,\n",
    "                step=i,\n",
    "            )\n",
    "            all_metrics.append(metric)\n",
    "    all_metrics = all_metrics + f1 + val_f1\n",
    "\n",
    "    mlflow_client.log_batch(run_id=active_run.info.run_id, metrics=all_metrics)\n",
    "    mlflow_client.log_param(run_id=active_run.info.run_id, key=\"batch size\", value=batch_size)\n",
    "    mlflow_client.log_param(run_id=active_run.info.run_id, key=\"learning rate\", value=learning_rate)\n",
    "    mlflow_client.log_param(run_id=active_run.info.run_id, key=\"epochs\", value=epochs)\n",
    "    mlflow_client.log_param(run_id=active_run.info.run_id, key=\"optimizer\", value=optimizer.__class__.__name__)\n",
    "    mlflow_client.log_param(run_id=active_run.info.run_id, key=\"Loss\", value=loss)\n",
    "    mlflow_client.log_param(run_id=active_run.info.run_id, key=\"DB\", value=dataset)\n",
    "    mlflow_client.log_param(run_id=active_run.info.run_id, key=\"Transfer Learning\", value=transfer_learning)\n",
    "    mlflow_client.log_param(run_id=active_run.info.run_id, key=\"Folder para clasificar\", value=mode_classification)\n",
    "    mlflow_client.log_param(run_id=active_run.info.run_id, key=\"Split test\", value=validation_split)\n",
    "\n",
    "    if config.LOG_JSON_TXT_MODEL_MLFlow:\n",
    "        mlflow.log_artifact(\"temp/summary_model.txt\", artifact_path=\"arquitectura\")\n",
    "        mlflow.log_artifact(\"temp/architecture.json\", artifact_path=\"arquitectura\")\n",
    "    if config.LOG_MODEL_MLFlow:\n",
    "        mlflow_client.log_artifacts(run_id=active_run.info.run_id, local_dir=\"temp/model/\")\n",
    "\n",
    "    mlflow_client.log_batch(run_id=active_run.info.run_id, metrics=all_metrics)\n",
    "    print(\"Todas las metricas guardadas\")\n",
    "# ?Guardar las metricas por cada epoca\n",
    "# tags = {'Transfer Learning:': transfer_learning}\n",
    "# mlflow_client.set_experiment_tag(0, \"name DB\", dataset)"
   ]
  },
  {
   "cell_type": "code",
   "execution_count": 24,
   "id": "3cdbd423",
   "metadata": {
    "pycharm": {
     "name": "#%%\n"
    }
   },
   "outputs": [],
   "source": [
    "# mlflow.end_run()\n",
    "# print(\"Se detuvo MLFlow\")"
   ]
  },
  {
   "cell_type": "code",
   "execution_count": 25,
   "id": "bc00b161",
   "metadata": {},
   "outputs": [],
   "source": [
    "# acc = history.history['categorical_accuracy']\n",
    "# val_acc = history.history['val_categorical_accuracy']\n",
    "#\n",
    "# loss = history.history['loss']\n",
    "# val_loss = history.history['val_loss']\n",
    "#\n",
    "# rango_epocas = range(epochs)\n",
    "#\n",
    "# plt.figure(figsize=(8, 8))\n",
    "# plt.subplot(1, 2, 1)\n",
    "# plt.plot(rango_epocas, acc, label='accuracy Entrenamiento')\n",
    "# plt.plot(rango_epocas, val_acc, label='accuracy Pruebas')\n",
    "# plt.legend(loc='lower right')\n",
    "# plt.title('Precisión de entrenamiento y pruebas')\n",
    "#\n",
    "# plt.subplot(1, 2, 2)\n",
    "# plt.plot(rango_epocas, loss, label='Pérdida de entrenamiento')\n",
    "# plt.plot(rango_epocas, val_loss, label='Pérdida de pruebas')\n",
    "# plt.legend(loc='upper right')\n",
    "# plt.title('Pérdida de entrenamiento y pruebas')\n",
    "# plt.show()"
   ]
  },
  {
   "cell_type": "code",
   "execution_count": 26,
   "id": "2526352b",
   "metadata": {
    "pycharm": {
     "name": "#%%\n"
    }
   },
   "outputs": [],
   "source": [
    "# import pandas as pd\n",
    "#\n",
    "# column_values = ['accuracy de train',\n",
    "#                  'accuracy de pruebas',\n",
    "#                  'perdida de train',\n",
    "#                  'perdida de pruebas']\n",
    "# array = list(zip(acc, val_acc, loss, val_loss))\n",
    "# df = pd.DataFrame(data=array, columns=column_values)\n",
    "# df\n",
    "# df.describe()\n"
   ]
  }
 ],
 "metadata": {
  "kernelspec": {
   "display_name": "Python 3 (ipykernel)",
   "language": "python",
   "name": "python3"
  },
  "language_info": {
   "codemirror_mode": {
    "name": "ipython",
    "version": 3
   },
   "file_extension": ".py",
   "mimetype": "text/x-python",
   "name": "python",
   "nbconvert_exporter": "python",
   "pygments_lexer": "ipython3",
   "version": "3.8.12"
  },
  "vscode": {
   "interpreter": {
    "hash": "0d39fa81ef7d8c9dbb3ef4d83836ce7f3a5d351880fe8e51df0865e70407a865"
   }
  }
 },
 "nbformat": 4,
 "nbformat_minor": 5
}
