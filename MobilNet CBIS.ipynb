{
 "cells": [
  {
   "cell_type": "code",
   "execution_count": 1,
   "id": "ebc0b327",
   "metadata": {},
   "outputs": [
    {
     "name": "stdout",
     "output_type": "stream",
     "text": [
      "Num GPUs Available:  1\n",
      "Default GPU Device: /device:GPU:0\n"
     ]
    }
   ],
   "source": [
    "import tensorflow as tf\n",
    "\n",
    "print(\"Num GPUs Available: \", len(tf.config.list_physical_devices('GPU')))\n",
    "if tf.test.gpu_device_name():\n",
    "    print('Default GPU Device: {}'.format(tf.test.gpu_device_name()))\n",
    "else:\n",
    "    print(\"Please install GPU version of TF\")"
   ]
  },
  {
   "cell_type": "code",
   "execution_count": 2,
   "id": "60023f17",
   "metadata": {},
   "outputs": [
    {
     "ename": "FileNotFoundError",
     "evalue": "[WinError 3] El sistema no puede encontrar la ruta especificada: 'data/dataset_raw/MINI-DDSM/binary_classification/maligno'",
     "output_type": "error",
     "traceback": [
      "\u001B[1;31m---------------------------------------------------------------------------\u001B[0m",
      "\u001B[1;31mFileNotFoundError\u001B[0m                         Traceback (most recent call last)",
      "Input \u001B[1;32mIn [2]\u001B[0m, in \u001B[0;36m<cell line: 3>\u001B[1;34m()\u001B[0m\n\u001B[0;32m      1\u001B[0m \u001B[38;5;28;01mimport\u001B[39;00m \u001B[38;5;21;01mos\u001B[39;00m\n\u001B[1;32m----> 3\u001B[0m \u001B[38;5;28mprint\u001B[39m(\u001B[38;5;124m\"\u001B[39m\u001B[38;5;124mMaligno: \u001B[39m\u001B[38;5;124m\"\u001B[39m, \u001B[38;5;28mlen\u001B[39m(\u001B[43mos\u001B[49m\u001B[38;5;241;43m.\u001B[39;49m\u001B[43mlistdir\u001B[49m\u001B[43m(\u001B[49m\u001B[38;5;124;43m\"\u001B[39;49m\u001B[38;5;124;43mdata/dataset_raw/MINI-DDSM/binary_classification/maligno\u001B[39;49m\u001B[38;5;124;43m\"\u001B[39;49m\u001B[43m)\u001B[49m))\n\u001B[0;32m      4\u001B[0m \u001B[38;5;28mprint\u001B[39m(\u001B[38;5;124m\"\u001B[39m\u001B[38;5;124mBenigno: \u001B[39m\u001B[38;5;124m\"\u001B[39m, \u001B[38;5;28mlen\u001B[39m(os\u001B[38;5;241m.\u001B[39mlistdir(\u001B[38;5;124m\"\u001B[39m\u001B[38;5;124mdata/dataset_raw/MINI-DDSM/binary_classification/benigno\u001B[39m\u001B[38;5;124m\"\u001B[39m)))\n",
      "\u001B[1;31mFileNotFoundError\u001B[0m: [WinError 3] El sistema no puede encontrar la ruta especificada: 'data/dataset_raw/MINI-DDSM/binary_classification/maligno'"
     ]
    }
   ],
   "source": [
    "import os\n",
    "\n",
    "print(\"Maligno: \", len(os.listdir(\"data/dataset_raw/MINI-DDSM/binary_classification/maligno\")))\n",
    "print(\"Benigno: \", len(os.listdir(\"data/dataset_raw/MINI-DDSM/binary_classification/benigno\")))"
   ]
  },
  {
   "cell_type": "code",
   "execution_count": null,
   "id": "f742fd18",
   "metadata": {},
   "outputs": [],
   "source": [
    "#Aumento de datos con ImageDataGenerator\n",
    "from tensorflow.keras.preprocessing.image import ImageDataGenerator\n",
    "import numpy as np\n",
    "import matplotlib.pyplot as plt\n",
    "\n",
    "#Crear el dataset generador\n",
    "datagen = ImageDataGenerator(\n",
    "    rescale=1. / 255,\n",
    "    rotation_range=4,\n",
    "    #     https://stackoverflow.com/questions/62484597/understanding-width-shift-range-and-height-shift-range-arguments-in-kerass\n",
    "    #     width_shift_range = 0.05,\n",
    "    #     height_shift_range = 0.05,\n",
    "    # horizontal_flip=True,\n",
    "    # https://stackoverflow.com/questions/57301330/what-exactly-the-shear-do-in-imagedatagenerator-of-keras\n",
    "    # shear_range=2,\n",
    "    #     preprocessing_function=gray_to_rgb,\n",
    "    # zoom_range=[0.3, 0.5],\n",
    "    validation_split=0.2  #20% para pruebas\n",
    ")\n",
    "# data/dataset_raw/MINI-DDSM/binary_classification/\n",
    "#Generadores para sets de entrenamiento y pruebas\n",
    "data_gen_train = datagen.flow_from_directory('data/dataset_raw/MINI-DDSM/binary_classification/',\n",
    "                                             batch_size=32, shuffle=True, target_size=(224, 224),\n",
    "                                             class_mode='categorical',\n",
    "                                             subset='training')\n",
    "# color_mode='grayscale'\n",
    "data_gen_test = datagen.flow_from_directory('data/dataset_raw/MINI-DDSM/binary_classification/',\n",
    "                                            batch_size=32, target_size=(224, 224), shuffle=True,\n",
    "                                            class_mode='categorical',\n",
    "                                            subset='validation')\n",
    "\n",
    "#Imprimir 10 imagenes del generador de entrenamiento\n",
    "for imagen, etiqueta in data_gen_train:\n",
    "    for i in range(10):\n",
    "        #         print(type(imagen))\n",
    "        plt.subplot(2, 5, i + 1)\n",
    "        plt.xticks([])\n",
    "        plt.yticks([])\n",
    "        plt.imshow(imagen[i])\n",
    "    #         break\n",
    "    break\n",
    "plt.show()\n"
   ]
  },
  {
   "cell_type": "code",
   "execution_count": null,
   "id": "15d2cbf1",
   "metadata": {},
   "outputs": [],
   "source": [
    "from src.models.MobilNet2 import create_mobilNet\n",
    "\n",
    "model = create_mobilNet()"
   ]
  },
  {
   "cell_type": "code",
   "execution_count": null,
   "id": "2ea0f9ac",
   "metadata": {},
   "outputs": [],
   "source": [
    "# import tensorflow as tf\n",
    "# import tensorflow_hub as hub\n",
    "\n",
    "# url = \"https://tfhub.dev/google/tf2-preview/mobilenet_v2/feature_vector/4\"\n",
    "# mobilenetv2 = hub.KerasLayer(url, input_shape=(224,224,3))\n",
    "\n",
    "# #Congelar el modelo descargado\n",
    "# mobilenetv2.trainable = False\n",
    "\n",
    "# modelo = tf.keras.Sequential([\n",
    "#     mobilenetv2,\n",
    "#     tf.keras.layers.Dense(2, activation='softmax')\n",
    "# ])\n",
    "\n",
    "# modelo.summary()"
   ]
  },
  {
   "cell_type": "code",
   "execution_count": null,
   "id": "f2c60f9a",
   "metadata": {},
   "outputs": [],
   "source": [
    "from tensorflow.keras.optimizers import Adam, SGD\n",
    "\n",
    "model.compile(SGD(learning_rate=1e-5), 'categorical_crossentropy', metrics=['accuracy'])\n",
    "# 1e-5\n",
    "# model.compile(\n",
    "#     optimizer = 'adam',\n",
    "#      loss='binary_crossentropy', # , categorical_crossentropy\n",
    "#     metrics = ['accuracy']\n",
    "# )"
   ]
  },
  {
   "cell_type": "code",
   "execution_count": null,
   "id": "bffd1c5e",
   "metadata": {
    "scrolled": false
   },
   "outputs": [],
   "source": [
    "#Entrenar el modelo\n",
    "EPOCAS = 15\n",
    "\n",
    "historial = model.fit(\n",
    "    data_gen_train, epochs=EPOCAS, batch_size=32,\n",
    "    validation_data=data_gen_test\n",
    ")"
   ]
  },
  {
   "cell_type": "code",
   "execution_count": null,
   "id": "bc00b161",
   "metadata": {},
   "outputs": [],
   "source": [
    "#Graficas de precisión\n",
    "acc = historial.history['accuracy']\n",
    "val_acc = historial.history['val_accuracy']\n",
    "\n",
    "loss = historial.history['loss']\n",
    "val_loss = historial.history['val_loss']\n",
    "\n",
    "rango_epocas = range(15)\n",
    "\n",
    "plt.figure(figsize=(8, 8))\n",
    "plt.subplot(1, 2, 1)\n",
    "plt.plot(rango_epocas, acc, label='Precisión Entrenamiento')\n",
    "plt.plot(rango_epocas, val_acc, label='Precisión Pruebas')\n",
    "plt.legend(loc='lower right')\n",
    "plt.title('Precisión de entrenamiento y pruebas')\n",
    "\n",
    "plt.subplot(1, 2, 2)\n",
    "plt.plot(rango_epocas, loss, label='Pérdida de entrenamiento')\n",
    "plt.plot(rango_epocas, val_loss, label='Pérdida de pruebas')\n",
    "plt.legend(loc='upper right')\n",
    "plt.title('Pérdida de entrenamiento y pruebas')\n",
    "plt.show()"
   ]
  },
  {
   "cell_type": "code",
   "execution_count": null,
   "id": "2526352b",
   "metadata": {},
   "outputs": [],
   "source": [
    "import pandas as pd\n",
    "column_values = ['precision de train',\n",
    "                 'precision de pruebas',\n",
    "                 'perdida de train',\n",
    "                 'perdida de pruebas']\n",
    "array= list(zip(acc,val_acc,loss,val_loss))\n",
    "df = pd.DataFrame(data = array,columns=column_values)\n",
    "df"
   ]
  },
  {
   "cell_type": "code",
   "execution_count": null,
   "outputs": [],
   "source": [
    "df.describe()"
   ],
   "metadata": {
    "collapsed": false,
    "pycharm": {
     "name": "#%%\n"
    }
   }
  },
  {
   "cell_type": "markdown",
   "source": [
    "Reunión Profesor:\n",
    "- Modificar los parametros del batch, taza de aprendisaje, recomienda que no congelemos los pesos\n",
    "- Si o si usar data aumentation en el video indicar que parametros usar pero indica que resize no es bueno para la aumentación de datos\n",
    "- Duplicar una arquitectura ya existente\n",
    "- Estudiar cual es la caracteristica diferencial en las mamografias para que al momento de crear una arquitectura sepamos que convolusión es mejor o demos mas resalte como puede ser la forma la textura...\n",
    "- Creo que hay un error en eso de convolusiones de poner mas a menos deberia ser al revez de menos a mas\n"
   ],
   "metadata": {
    "collapsed": false
   }
  }
 ],
 "metadata": {
  "kernelspec": {
   "display_name": "Python 3 (ipykernel)",
   "language": "python",
   "name": "python3"
  },
  "language_info": {
   "codemirror_mode": {
    "name": "ipython",
    "version": 3
   },
   "file_extension": ".py",
   "mimetype": "text/x-python",
   "name": "python",
   "nbconvert_exporter": "python",
   "pygments_lexer": "ipython3",
   "version": "3.8.12"
  }
 },
 "nbformat": 4,
 "nbformat_minor": 5
}