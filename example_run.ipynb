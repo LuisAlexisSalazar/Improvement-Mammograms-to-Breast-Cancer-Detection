{
 "cells": [
  {
   "cell_type": "code",
   "execution_count": 6,
   "metadata": {},
   "outputs": [
    {
     "ename": "error",
     "evalue": "nothing to repeat at position 0",
     "output_type": "error",
     "traceback": [
      "\u001B[1;31m---------------------------------------------------------------------------\u001B[0m",
      "\u001B[1;31merror\u001B[0m                                     Traceback (most recent call last)",
      "Input \u001B[1;32mIn [6]\u001B[0m, in \u001B[0;36m<cell line: 2>\u001B[1;34m()\u001B[0m\n\u001B[0;32m      1\u001B[0m \u001B[38;5;28;01mfrom\u001B[39;00m \u001B[38;5;21;01msrc\u001B[39;00m\u001B[38;5;21;01m.\u001B[39;00m\u001B[38;5;21;01mdownload_dataset\u001B[39;00m\u001B[38;5;21;01m.\u001B[39;00m\u001B[38;5;21;01mdownload_MIAS\u001B[39;00m \u001B[38;5;28;01mimport\u001B[39;00m \u001B[38;5;241m*\u001B[39m\n\u001B[1;32m----> 2\u001B[0m \u001B[43mdownload_data\u001B[49m\u001B[43m(\u001B[49m\u001B[43mURL_MIAS\u001B[49m\u001B[43m)\u001B[49m\n",
      "File \u001B[1;32mE:\\U\\Improvement-Mammograms-to-Breast-Cancer-Detection\\src\\download_dataset\\download_MIAS.py:41\u001B[0m, in \u001B[0;36mdownload_data\u001B[1;34m(URL)\u001B[0m\n\u001B[0;32m     39\u001B[0m \u001B[38;5;28;01mif\u001B[39;00m URL \u001B[38;5;241m==\u001B[39m URL_MIAS:\n\u001B[0;32m     40\u001B[0m     path_data_set \u001B[38;5;241m=\u001B[39m path_data_set \u001B[38;5;241m+\u001B[39m \u001B[38;5;124m\"\u001B[39m\u001B[38;5;124mMIAS/\u001B[39m\u001B[38;5;124m\"\u001B[39m\n\u001B[1;32m---> 41\u001B[0m     files \u001B[38;5;241m=\u001B[39m [f \u001B[38;5;28;01mfor\u001B[39;00m f \u001B[38;5;129;01min\u001B[39;00m os\u001B[38;5;241m.\u001B[39mlistdir(path\u001B[38;5;241m=\u001B[39mpath_data_set) \u001B[38;5;28;01mif\u001B[39;00m re\u001B[38;5;241m.\u001B[39mmatch(\u001B[38;5;124mr\u001B[39m\u001B[38;5;124m'\u001B[39m\u001B[38;5;124m*\u001B[39m\u001B[38;5;124m\\\u001B[39m\u001B[38;5;124m.tar\u001B[39m\u001B[38;5;124m\\\u001B[39m\u001B[38;5;124m.gz\u001B[39m\u001B[38;5;124m'\u001B[39m, f)]\n\u001B[0;32m     42\u001B[0m     \u001B[38;5;28mprint\u001B[39m(\u001B[38;5;124m\"\u001B[39m\u001B[38;5;124mWatch\u001B[39m\u001B[38;5;124m\"\u001B[39m, files)\n",
      "File \u001B[1;32mE:\\U\\Improvement-Mammograms-to-Breast-Cancer-Detection\\src\\download_dataset\\download_MIAS.py:41\u001B[0m, in \u001B[0;36m<listcomp>\u001B[1;34m(.0)\u001B[0m\n\u001B[0;32m     39\u001B[0m \u001B[38;5;28;01mif\u001B[39;00m URL \u001B[38;5;241m==\u001B[39m URL_MIAS:\n\u001B[0;32m     40\u001B[0m     path_data_set \u001B[38;5;241m=\u001B[39m path_data_set \u001B[38;5;241m+\u001B[39m \u001B[38;5;124m\"\u001B[39m\u001B[38;5;124mMIAS/\u001B[39m\u001B[38;5;124m\"\u001B[39m\n\u001B[1;32m---> 41\u001B[0m     files \u001B[38;5;241m=\u001B[39m [f \u001B[38;5;28;01mfor\u001B[39;00m f \u001B[38;5;129;01min\u001B[39;00m os\u001B[38;5;241m.\u001B[39mlistdir(path\u001B[38;5;241m=\u001B[39mpath_data_set) \u001B[38;5;28;01mif\u001B[39;00m \u001B[43mre\u001B[49m\u001B[38;5;241;43m.\u001B[39;49m\u001B[43mmatch\u001B[49m\u001B[43m(\u001B[49m\u001B[38;5;124;43mr\u001B[39;49m\u001B[38;5;124;43m'\u001B[39;49m\u001B[38;5;124;43m*\u001B[39;49m\u001B[38;5;124;43m\\\u001B[39;49m\u001B[38;5;124;43m.tar\u001B[39;49m\u001B[38;5;124;43m\\\u001B[39;49m\u001B[38;5;124;43m.gz\u001B[39;49m\u001B[38;5;124;43m'\u001B[39;49m\u001B[43m,\u001B[49m\u001B[43m \u001B[49m\u001B[43mf\u001B[49m\u001B[43m)\u001B[49m]\n\u001B[0;32m     42\u001B[0m     \u001B[38;5;28mprint\u001B[39m(\u001B[38;5;124m\"\u001B[39m\u001B[38;5;124mWatch\u001B[39m\u001B[38;5;124m\"\u001B[39m, files)\n",
      "File \u001B[1;32mE:\\anaconda3\\envs\\env_breast_cancer\\lib\\re.py:191\u001B[0m, in \u001B[0;36mmatch\u001B[1;34m(pattern, string, flags)\u001B[0m\n\u001B[0;32m    188\u001B[0m \u001B[38;5;28;01mdef\u001B[39;00m \u001B[38;5;21mmatch\u001B[39m(pattern, string, flags\u001B[38;5;241m=\u001B[39m\u001B[38;5;241m0\u001B[39m):\n\u001B[0;32m    189\u001B[0m     \u001B[38;5;124;03m\"\"\"Try to apply the pattern at the start of the string, returning\u001B[39;00m\n\u001B[0;32m    190\u001B[0m \u001B[38;5;124;03m    a Match object, or None if no match was found.\"\"\"\u001B[39;00m\n\u001B[1;32m--> 191\u001B[0m     \u001B[38;5;28;01mreturn\u001B[39;00m \u001B[43m_compile\u001B[49m\u001B[43m(\u001B[49m\u001B[43mpattern\u001B[49m\u001B[43m,\u001B[49m\u001B[43m \u001B[49m\u001B[43mflags\u001B[49m\u001B[43m)\u001B[49m\u001B[38;5;241m.\u001B[39mmatch(string)\n",
      "File \u001B[1;32mE:\\anaconda3\\envs\\env_breast_cancer\\lib\\re.py:304\u001B[0m, in \u001B[0;36m_compile\u001B[1;34m(pattern, flags)\u001B[0m\n\u001B[0;32m    302\u001B[0m \u001B[38;5;28;01mif\u001B[39;00m \u001B[38;5;129;01mnot\u001B[39;00m sre_compile\u001B[38;5;241m.\u001B[39misstring(pattern):\n\u001B[0;32m    303\u001B[0m     \u001B[38;5;28;01mraise\u001B[39;00m \u001B[38;5;167;01mTypeError\u001B[39;00m(\u001B[38;5;124m\"\u001B[39m\u001B[38;5;124mfirst argument must be string or compiled pattern\u001B[39m\u001B[38;5;124m\"\u001B[39m)\n\u001B[1;32m--> 304\u001B[0m p \u001B[38;5;241m=\u001B[39m \u001B[43msre_compile\u001B[49m\u001B[38;5;241;43m.\u001B[39;49m\u001B[43mcompile\u001B[49m\u001B[43m(\u001B[49m\u001B[43mpattern\u001B[49m\u001B[43m,\u001B[49m\u001B[43m \u001B[49m\u001B[43mflags\u001B[49m\u001B[43m)\u001B[49m\n\u001B[0;32m    305\u001B[0m \u001B[38;5;28;01mif\u001B[39;00m \u001B[38;5;129;01mnot\u001B[39;00m (flags \u001B[38;5;241m&\u001B[39m DEBUG):\n\u001B[0;32m    306\u001B[0m     \u001B[38;5;28;01mif\u001B[39;00m \u001B[38;5;28mlen\u001B[39m(_cache) \u001B[38;5;241m>\u001B[39m\u001B[38;5;241m=\u001B[39m _MAXCACHE:\n\u001B[0;32m    307\u001B[0m         \u001B[38;5;66;03m# Drop the oldest item\u001B[39;00m\n",
      "File \u001B[1;32mE:\\anaconda3\\envs\\env_breast_cancer\\lib\\sre_compile.py:764\u001B[0m, in \u001B[0;36mcompile\u001B[1;34m(p, flags)\u001B[0m\n\u001B[0;32m    762\u001B[0m \u001B[38;5;28;01mif\u001B[39;00m isstring(p):\n\u001B[0;32m    763\u001B[0m     pattern \u001B[38;5;241m=\u001B[39m p\n\u001B[1;32m--> 764\u001B[0m     p \u001B[38;5;241m=\u001B[39m \u001B[43msre_parse\u001B[49m\u001B[38;5;241;43m.\u001B[39;49m\u001B[43mparse\u001B[49m\u001B[43m(\u001B[49m\u001B[43mp\u001B[49m\u001B[43m,\u001B[49m\u001B[43m \u001B[49m\u001B[43mflags\u001B[49m\u001B[43m)\u001B[49m\n\u001B[0;32m    765\u001B[0m \u001B[38;5;28;01melse\u001B[39;00m:\n\u001B[0;32m    766\u001B[0m     pattern \u001B[38;5;241m=\u001B[39m \u001B[38;5;28;01mNone\u001B[39;00m\n",
      "File \u001B[1;32mE:\\anaconda3\\envs\\env_breast_cancer\\lib\\sre_parse.py:948\u001B[0m, in \u001B[0;36mparse\u001B[1;34m(str, flags, state)\u001B[0m\n\u001B[0;32m    945\u001B[0m state\u001B[38;5;241m.\u001B[39mstr \u001B[38;5;241m=\u001B[39m \u001B[38;5;28mstr\u001B[39m\n\u001B[0;32m    947\u001B[0m \u001B[38;5;28;01mtry\u001B[39;00m:\n\u001B[1;32m--> 948\u001B[0m     p \u001B[38;5;241m=\u001B[39m \u001B[43m_parse_sub\u001B[49m\u001B[43m(\u001B[49m\u001B[43msource\u001B[49m\u001B[43m,\u001B[49m\u001B[43m \u001B[49m\u001B[43mstate\u001B[49m\u001B[43m,\u001B[49m\u001B[43m \u001B[49m\u001B[43mflags\u001B[49m\u001B[43m \u001B[49m\u001B[38;5;241;43m&\u001B[39;49m\u001B[43m \u001B[49m\u001B[43mSRE_FLAG_VERBOSE\u001B[49m\u001B[43m,\u001B[49m\u001B[43m \u001B[49m\u001B[38;5;241;43m0\u001B[39;49m\u001B[43m)\u001B[49m\n\u001B[0;32m    949\u001B[0m \u001B[38;5;28;01mexcept\u001B[39;00m Verbose:\n\u001B[0;32m    950\u001B[0m     \u001B[38;5;66;03m# the VERBOSE flag was switched on inside the pattern.  to be\u001B[39;00m\n\u001B[0;32m    951\u001B[0m     \u001B[38;5;66;03m# on the safe side, we'll parse the whole thing again...\u001B[39;00m\n\u001B[0;32m    952\u001B[0m     state \u001B[38;5;241m=\u001B[39m State()\n",
      "File \u001B[1;32mE:\\anaconda3\\envs\\env_breast_cancer\\lib\\sre_parse.py:443\u001B[0m, in \u001B[0;36m_parse_sub\u001B[1;34m(source, state, verbose, nested)\u001B[0m\n\u001B[0;32m    441\u001B[0m start \u001B[38;5;241m=\u001B[39m source\u001B[38;5;241m.\u001B[39mtell()\n\u001B[0;32m    442\u001B[0m \u001B[38;5;28;01mwhile\u001B[39;00m \u001B[38;5;28;01mTrue\u001B[39;00m:\n\u001B[1;32m--> 443\u001B[0m     itemsappend(\u001B[43m_parse\u001B[49m\u001B[43m(\u001B[49m\u001B[43msource\u001B[49m\u001B[43m,\u001B[49m\u001B[43m \u001B[49m\u001B[43mstate\u001B[49m\u001B[43m,\u001B[49m\u001B[43m \u001B[49m\u001B[43mverbose\u001B[49m\u001B[43m,\u001B[49m\u001B[43m \u001B[49m\u001B[43mnested\u001B[49m\u001B[43m \u001B[49m\u001B[38;5;241;43m+\u001B[39;49m\u001B[43m \u001B[49m\u001B[38;5;241;43m1\u001B[39;49m\u001B[43m,\u001B[49m\n\u001B[0;32m    444\u001B[0m \u001B[43m                       \u001B[49m\u001B[38;5;129;43;01mnot\u001B[39;49;00m\u001B[43m \u001B[49m\u001B[43mnested\u001B[49m\u001B[43m \u001B[49m\u001B[38;5;129;43;01mand\u001B[39;49;00m\u001B[43m \u001B[49m\u001B[38;5;129;43;01mnot\u001B[39;49;00m\u001B[43m \u001B[49m\u001B[43mitems\u001B[49m\u001B[43m)\u001B[49m)\n\u001B[0;32m    445\u001B[0m     \u001B[38;5;28;01mif\u001B[39;00m \u001B[38;5;129;01mnot\u001B[39;00m sourcematch(\u001B[38;5;124m\"\u001B[39m\u001B[38;5;124m|\u001B[39m\u001B[38;5;124m\"\u001B[39m):\n\u001B[0;32m    446\u001B[0m         \u001B[38;5;28;01mbreak\u001B[39;00m\n",
      "File \u001B[1;32mE:\\anaconda3\\envs\\env_breast_cancer\\lib\\sre_parse.py:668\u001B[0m, in \u001B[0;36m_parse\u001B[1;34m(source, state, verbose, nested, first)\u001B[0m\n\u001B[0;32m    666\u001B[0m     item \u001B[38;5;241m=\u001B[39m \u001B[38;5;28;01mNone\u001B[39;00m\n\u001B[0;32m    667\u001B[0m \u001B[38;5;28;01mif\u001B[39;00m \u001B[38;5;129;01mnot\u001B[39;00m item \u001B[38;5;129;01mor\u001B[39;00m item[\u001B[38;5;241m0\u001B[39m][\u001B[38;5;241m0\u001B[39m] \u001B[38;5;129;01mis\u001B[39;00m AT:\n\u001B[1;32m--> 668\u001B[0m     \u001B[38;5;28;01mraise\u001B[39;00m source\u001B[38;5;241m.\u001B[39merror(\u001B[38;5;124m\"\u001B[39m\u001B[38;5;124mnothing to repeat\u001B[39m\u001B[38;5;124m\"\u001B[39m,\n\u001B[0;32m    669\u001B[0m                        source\u001B[38;5;241m.\u001B[39mtell() \u001B[38;5;241m-\u001B[39m here \u001B[38;5;241m+\u001B[39m \u001B[38;5;28mlen\u001B[39m(this))\n\u001B[0;32m    670\u001B[0m \u001B[38;5;28;01mif\u001B[39;00m item[\u001B[38;5;241m0\u001B[39m][\u001B[38;5;241m0\u001B[39m] \u001B[38;5;129;01min\u001B[39;00m _REPEATCODES:\n\u001B[0;32m    671\u001B[0m     \u001B[38;5;28;01mraise\u001B[39;00m source\u001B[38;5;241m.\u001B[39merror(\u001B[38;5;124m\"\u001B[39m\u001B[38;5;124mmultiple repeat\u001B[39m\u001B[38;5;124m\"\u001B[39m,\n\u001B[0;32m    672\u001B[0m                        source\u001B[38;5;241m.\u001B[39mtell() \u001B[38;5;241m-\u001B[39m here \u001B[38;5;241m+\u001B[39m \u001B[38;5;28mlen\u001B[39m(this))\n",
      "\u001B[1;31merror\u001B[0m: nothing to repeat at position 0"
     ]
    }
   ],
   "source": [
    "from src.download_dataset.download import *\n",
    "\n",
    "df = create_df_dataset_MIAS()\n",
    "#%"
   ]
  },
  {
   "cell_type": "code",
   "execution_count": 16,
   "metadata": {},
   "outputs": [
    {
     "data": {
      "text/plain": [
       "array(['B', None, 'M'], dtype=object)"
      ]
     },
     "execution_count": 16,
     "metadata": {},
     "output_type": "execute_result"
    }
   ],
   "source": [
    "df[\"abn_class\"].unique()"
   ]
  },
  {
   "cell_type": "code",
   "execution_count": 17,
   "metadata": {},
   "outputs": [
    {
     "data": {
      "text/html": [
       "<div>\n",
       "<style scoped>\n",
       "    .dataframe tbody tr th:only-of-type {\n",
       "        vertical-align: middle;\n",
       "    }\n",
       "\n",
       "    .dataframe tbody tr th {\n",
       "        vertical-align: top;\n",
       "    }\n",
       "\n",
       "    .dataframe thead th {\n",
       "        text-align: right;\n",
       "    }\n",
       "</style>\n",
       "<table border=\"1\" class=\"dataframe\">\n",
       "  <thead>\n",
       "    <tr style=\"text-align: right;\">\n",
       "      <th></th>\n",
       "      <th>name_file</th>\n",
       "      <th>cjf</th>\n",
       "      <th>meta_class</th>\n",
       "      <th>abn_class</th>\n",
       "      <th>x_abn</th>\n",
       "      <th>y_abn</th>\n",
       "      <th>radio</th>\n",
       "    </tr>\n",
       "  </thead>\n",
       "  <tbody>\n",
       "    <tr>\n",
       "      <th>0</th>\n",
       "      <td>mdb002</td>\n",
       "      <td>G</td>\n",
       "      <td>CIRC</td>\n",
       "      <td>T</td>\n",
       "      <td>522</td>\n",
       "      <td>280</td>\n",
       "      <td>69.0</td>\n",
       "    </tr>\n",
       "    <tr>\n",
       "      <th>1</th>\n",
       "      <td>mdb003</td>\n",
       "      <td>D</td>\n",
       "      <td>NORM</td>\n",
       "      <td>N</td>\n",
       "      <td>None</td>\n",
       "      <td>None</td>\n",
       "      <td>NaN</td>\n",
       "    </tr>\n",
       "    <tr>\n",
       "      <th>2</th>\n",
       "      <td>mdb004</td>\n",
       "      <td>D</td>\n",
       "      <td>NORM</td>\n",
       "      <td>N</td>\n",
       "      <td>None</td>\n",
       "      <td>None</td>\n",
       "      <td>NaN</td>\n",
       "    </tr>\n",
       "    <tr>\n",
       "      <th>3</th>\n",
       "      <td>mdb005</td>\n",
       "      <td>F</td>\n",
       "      <td>CIRC</td>\n",
       "      <td>T</td>\n",
       "      <td>477</td>\n",
       "      <td>133</td>\n",
       "      <td>30.0</td>\n",
       "    </tr>\n",
       "    <tr>\n",
       "      <th>4</th>\n",
       "      <td>mdb005</td>\n",
       "      <td>F</td>\n",
       "      <td>CIRC</td>\n",
       "      <td>T</td>\n",
       "      <td>500</td>\n",
       "      <td>168</td>\n",
       "      <td>26.0</td>\n",
       "    </tr>\n",
       "  </tbody>\n",
       "</table>\n",
       "</div>"
      ],
      "text/plain": [
       "  name_file cjf meta_class abn_class x_abn y_abn  radio\n",
       "0    mdb002   G       CIRC         T   522   280   69.0\n",
       "1    mdb003   D       NORM         N  None  None    NaN\n",
       "2    mdb004   D       NORM         N  None  None    NaN\n",
       "3    mdb005   F       CIRC         T   477   133   30.0\n",
       "4    mdb005   F       CIRC         T   500   168   26.0"
      ]
     },
     "execution_count": 17,
     "metadata": {},
     "output_type": "execute_result"
    }
   ],
   "source": [
    "df[\"abn_class\"] = df['abn_class'].replace(['B'],'T')\n",
    "df[\"abn_class\"] = df['abn_class'].replace(['M'],'T')\n",
    "df[\"abn_class\"] = df['abn_class'].replace([None],'N')\n",
    "df.head()"
   ]
  },
  {
   "cell_type": "code",
   "execution_count": 18,
   "metadata": {},
   "outputs": [
    {
     "name": "stdout",
     "output_type": "stream",
     "text": [
      "Model: \"sequential\"\n",
      "_________________________________________________________________\n",
      "Layer (type)                 Output Shape              Param #   \n",
      "=================================================================\n",
      "conv2d (Conv2D)              (None, 96, 96, 32)        832       \n",
      "_________________________________________________________________\n",
      "max_pooling2d (MaxPooling2D) (None, 48, 48, 32)        0         \n",
      "_________________________________________________________________\n",
      "conv2d_1 (Conv2D)            (None, 44, 44, 64)        51264     \n",
      "_________________________________________________________________\n",
      "max_pooling2d_1 (MaxPooling2 (None, 22, 22, 64)        0         \n",
      "_________________________________________________________________\n",
      "flatten (Flatten)            (None, 30976)             0         \n",
      "_________________________________________________________________\n",
      "dense (Dense)                (None, 100)               3097700   \n",
      "_________________________________________________________________\n",
      "dense_1 (Dense)              (None, 1)                 101       \n",
      "=================================================================\n",
      "Total params: 3,149,897\n",
      "Trainable params: 3,149,897\n",
      "Non-trainable params: 0\n",
      "_________________________________________________________________\n"
     ]
    }
   ],
   "source": [
    "from src.models.CNN import create_basic_cnn_model\n",
    "model = create_basic_cnn_model(2)"
   ]
  },
  {
   "cell_type": "code",
   "execution_count": 19,
   "metadata": {},
   "outputs": [],
   "source": [
    "model.compile(optimizer='adam',\n",
    "              loss='binary_crossentropy',\n",
    "              metrics=['accuracy'])"
   ]
  },
  {
   "cell_type": "code",
   "execution_count": 20,
   "metadata": {},
   "outputs": [
    {
     "data": {
      "text/plain": [
       "pandas.core.series.Series"
      ]
     },
     "execution_count": 20,
     "metadata": {},
     "output_type": "execute_result"
    }
   ],
   "source": [
    "names_files = df[\"name_file\"]\n",
    "type(names_files)"
   ]
  },
  {
   "cell_type": "code",
   "execution_count": 21,
   "metadata": {},
   "outputs": [
    {
     "data": {
      "image/png": "[encoded data removed]",
      "text/plain": [
       "<Figure size 432x288 with 1 Axes>"
      ]
     },
     "metadata": {
      "needs_background": "light"
     },
     "output_type": "display_data"
    }
   ],
   "source": [
    "import cv2\n",
    "import matplotlib.pyplot as plt\n",
    "import numpy as np #print(np.unique(img)) [0-255]\n",
    "\n",
    "path =\"data/dataset_raw/MIAS/\"\n",
    "for name in names_files:\n",
    "    img = cv2.imread(path + name +\".pgm\",cv2.IMREAD_GRAYSCALE)\n",
    "    img = cv2.resize(img,(100,100))\n",
    "    plt.imshow(img, cmap=\"gray\")\n",
    "    break"
   ]
  },
  {
   "cell_type": "code",
   "execution_count": 22,
   "metadata": {},
   "outputs": [],
   "source": [
    "x = []\n",
    "# y =  []\n",
    "for name in names_files:\n",
    "    img = cv2.imread(path + name +\".pgm\",cv2.IMREAD_GRAYSCALE)\n",
    "    img = cv2.resize(img,(100,100))\n",
    "    img = img.reshape(100,100,1)\n",
    "    x.append(img)\n",
    "#     print(img)\n",
    "#     print(img.shape)\n",
    "#     break"
   ]
  },
  {
   "cell_type": "code",
   "execution_count": 23,
   "metadata": {},
   "outputs": [
    {
     "data": {
      "text/plain": [
       "(329, 100, 100, 1)"
      ]
     },
     "execution_count": 23,
     "metadata": {},
     "output_type": "execute_result"
    }
   ],
   "source": [
    "x = np.array(x).astype(float) / 255\n",
    "x.shape"
   ]
  },
  {
   "cell_type": "code",
   "execution_count": 24,
   "metadata": {},
   "outputs": [
    {
     "data": {
      "text/plain": [
       "array([1, 0, 0, 1, 1, 0, 0, 0, 0, 1, 0, 1, 1, 0, 1, 0, 1, 0, 1, 0, 1, 0,\n",
       "       1, 0, 1, 0, 0, 1, 0, 1, 0, 1, 0, 0, 0, 0, 0, 0, 0, 0, 0, 0, 0, 0,\n",
       "       0, 0, 0, 0, 0, 0, 0, 0, 0, 0, 0, 0, 0, 1, 1, 0, 0, 0, 1, 0, 0, 0,\n",
       "       0, 0, 1, 0, 0, 1, 0, 0, 1, 0, 0, 0, 0, 1, 1, 0, 1, 0, 0, 0, 0, 0,\n",
       "       0, 1, 1, 1, 0, 0, 1, 0, 1, 0, 1, 0, 0, 1, 0, 1, 1, 0, 1, 0, 0, 1,\n",
       "       1, 0, 0, 0, 1, 0, 1, 0, 0, 1, 1, 0, 0, 1, 1, 1, 1, 0, 0, 1, 0, 1,\n",
       "       1, 0, 1, 0, 0, 0, 0, 0, 0, 1, 1, 0, 1, 1, 1, 0, 0, 1, 0, 1, 0, 1,\n",
       "       0, 0, 1, 0, 0, 1, 0, 1, 0, 0, 1, 0, 1, 0, 1, 0, 0, 1, 1, 0, 0, 0,\n",
       "       1, 0, 0, 1, 1, 0, 1, 0, 0, 1, 0, 1, 0, 1, 0, 1, 1, 0, 1, 0, 1, 0,\n",
       "       0, 1, 1, 0, 0, 1, 0, 1, 0, 1, 1, 0, 1, 0, 1, 1, 1, 1, 0, 1, 0, 1,\n",
       "       1, 0, 0, 1, 1, 1, 0, 0, 1, 1, 1, 1, 0, 0, 0, 1, 0, 1, 0, 0, 1, 0,\n",
       "       1, 1, 1, 1, 1, 0, 0, 1, 1, 0, 0, 1, 1, 1, 0, 0, 1, 1, 0, 0, 1, 0,\n",
       "       0, 0, 0, 0, 0, 0, 1, 1, 0, 1, 0, 0, 1, 1, 0, 0, 1, 0, 0, 0, 0, 0,\n",
       "       0, 0, 0, 0, 0, 0, 0, 0, 0, 0, 1, 0, 0, 0, 0, 0, 0, 0, 0, 0, 0, 0,\n",
       "       0, 0, 0, 0, 0, 0, 0, 0, 0, 0, 1, 0, 1, 1, 0, 0, 0, 0, 0, 0, 0],\n",
       "      dtype=int64)"
      ]
     },
     "execution_count": 24,
     "metadata": {},
     "output_type": "execute_result"
    }
   ],
   "source": [
    "# https://stackoverflow.com/questions/17702272/convert-pandas-series-containing-string-to-boolean\n",
    "d = {'T': 1, 'N': 0}\n",
    "y = df[\"abn_class\"].map(d)\n",
    "y = y.to_numpy()\n",
    "y"
   ]
  },
  {
   "cell_type": "code",
   "execution_count": 25,
   "metadata": {},
   "outputs": [
    {
     "data": {
      "text/plain": [
       "(329,)"
      ]
     },
     "execution_count": 25,
     "metadata": {},
     "output_type": "execute_result"
    }
   ],
   "source": [
    "y.shape"
   ]
  },
  {
   "cell_type": "code",
   "execution_count": 26,
   "metadata": {},
   "outputs": [
    {
     "name": "stdout",
     "output_type": "stream",
     "text": [
      "Requirement already satisfied: jupyter-tensorboard in e:\\anaconda3\\envs\\env_breast_cancer\\lib\\site-packages (0.2.0)\n",
      "Requirement already satisfied: notebook>=5.0 in e:\\anaconda3\\envs\\env_breast_cancer\\lib\\site-packages (from jupyter-tensorboard) (6.4.8)\n",
      "Requirement already satisfied: nest-asyncio>=1.5 in e:\\anaconda3\\envs\\env_breast_cancer\\lib\\site-packages (from notebook>=5.0->jupyter-tensorboard) (1.5.1)\n",
      "Requirement already satisfied: Send2Trash>=1.8.0 in e:\\anaconda3\\envs\\env_breast_cancer\\lib\\site-packages (from notebook>=5.0->jupyter-tensorboard) (1.8.0)\n",
      "Requirement already satisfied: nbconvert in e:\\anaconda3\\envs\\env_breast_cancer\\lib\\site-packages (from notebook>=5.0->jupyter-tensorboard) (6.5.0)\n",
      "Requirement already satisfied: argon2-cffi in e:\\anaconda3\\envs\\env_breast_cancer\\lib\\site-packages (from notebook>=5.0->jupyter-tensorboard) (21.3.0)\n",
      "Requirement already satisfied: tornado>=6.1 in e:\\anaconda3\\envs\\env_breast_cancer\\lib\\site-packages (from notebook>=5.0->jupyter-tensorboard) (6.1)\n",
      "Requirement already satisfied: pyzmq>=17 in e:\\anaconda3\\envs\\env_breast_cancer\\lib\\site-packages (from notebook>=5.0->jupyter-tensorboard) (22.3.0)\n",
      "Requirement already satisfied: traitlets>=4.2.1 in e:\\anaconda3\\envs\\env_breast_cancer\\lib\\site-packages (from notebook>=5.0->jupyter-tensorboard) (5.1.1)\n",
      "Requirement already satisfied: jupyter-core>=4.6.1 in e:\\anaconda3\\envs\\env_breast_cancer\\lib\\site-packages (from notebook>=5.0->jupyter-tensorboard) (4.9.2)\n",
      "Requirement already satisfied: nbformat in e:\\anaconda3\\envs\\env_breast_cancer\\lib\\site-packages (from notebook>=5.0->jupyter-tensorboard) (5.4.0)\n",
      "Requirement already satisfied: ipykernel in e:\\anaconda3\\envs\\env_breast_cancer\\lib\\site-packages (from notebook>=5.0->jupyter-tensorboard) (6.9.1)\n",
      "Requirement already satisfied: ipython-genutils in e:\\anaconda3\\envs\\env_breast_cancer\\lib\\site-packages (from notebook>=5.0->jupyter-tensorboard) (0.2.0)\n",
      "Requirement already satisfied: prometheus-client in e:\\anaconda3\\envs\\env_breast_cancer\\lib\\site-packages (from notebook>=5.0->jupyter-tensorboard) (0.13.1)\n",
      "Requirement already satisfied: jinja2 in e:\\anaconda3\\envs\\env_breast_cancer\\lib\\site-packages (from notebook>=5.0->jupyter-tensorboard) (3.0.3)\n",
      "Requirement already satisfied: jupyter-client>=5.3.4 in e:\\anaconda3\\envs\\env_breast_cancer\\lib\\site-packages (from notebook>=5.0->jupyter-tensorboard) (7.1.2)\n",
      "Requirement already satisfied: terminado>=0.8.3 in e:\\anaconda3\\envs\\env_breast_cancer\\lib\\site-packages (from notebook>=5.0->jupyter-tensorboard) (0.13.1)\n",
      "Requirement already satisfied: python-dateutil>=2.1 in e:\\anaconda3\\envs\\env_breast_cancer\\lib\\site-packages (from jupyter-client>=5.3.4->notebook>=5.0->jupyter-tensorboard) (2.8.2)\n",
      "Requirement already satisfied: entrypoints in e:\\anaconda3\\envs\\env_breast_cancer\\lib\\site-packages (from jupyter-client>=5.3.4->notebook>=5.0->jupyter-tensorboard) (0.3)\n",
      "Requirement already satisfied: pywin32>=1.0 in e:\\anaconda3\\envs\\env_breast_cancer\\lib\\site-packages (from jupyter-core>=4.6.1->notebook>=5.0->jupyter-tensorboard) (302)\n",
      "Requirement already satisfied: six>=1.5 in e:\\anaconda3\\envs\\env_breast_cancer\\lib\\site-packages (from python-dateutil>=2.1->jupyter-client>=5.3.4->notebook>=5.0->jupyter-tensorboard) (1.16.0)\n",
      "Requirement already satisfied: pywinpty>=1.1.0 in e:\\anaconda3\\envs\\env_breast_cancer\\lib\\site-packages (from terminado>=0.8.3->notebook>=5.0->jupyter-tensorboard) (2.0.2)\n",
      "Requirement already satisfied: argon2-cffi-bindings in e:\\anaconda3\\envs\\env_breast_cancer\\lib\\site-packages (from argon2-cffi->notebook>=5.0->jupyter-tensorboard) (21.2.0)\n",
      "Requirement already satisfied: cffi>=1.0.1 in e:\\anaconda3\\envs\\env_breast_cancer\\lib\\site-packages (from argon2-cffi-bindings->argon2-cffi->notebook>=5.0->jupyter-tensorboard) (1.15.0)\n",
      "Requirement already satisfied: pycparser in c:\\users\\admin\\appdata\\roaming\\python\\python38\\site-packages (from cffi>=1.0.1->argon2-cffi-bindings->argon2-cffi->notebook>=5.0->jupyter-tensorboard) (2.20)\n",
      "Requirement already satisfied: ipython>=7.23.1 in e:\\anaconda3\\envs\\env_breast_cancer\\lib\\site-packages (from ipykernel->notebook>=5.0->jupyter-tensorboard) (8.1.1)\n",
      "Requirement already satisfied: debugpy<2.0,>=1.0.0 in e:\\anaconda3\\envs\\env_breast_cancer\\lib\\site-packages (from ipykernel->notebook>=5.0->jupyter-tensorboard) (1.5.1)\n",
      "Requirement already satisfied: matplotlib-inline<0.2.0,>=0.1.0 in e:\\anaconda3\\envs\\env_breast_cancer\\lib\\site-packages (from ipykernel->notebook>=5.0->jupyter-tensorboard) (0.1.2)\n",
      "Requirement already satisfied: stack-data in e:\\anaconda3\\envs\\env_breast_cancer\\lib\\site-packages (from ipython>=7.23.1->ipykernel->notebook>=5.0->jupyter-tensorboard) (0.2.0)\n",
      "Requirement already satisfied: prompt-toolkit!=3.0.0,!=3.0.1,<3.1.0,>=2.0.0 in e:\\anaconda3\\envs\\env_breast_cancer\\lib\\site-packages (from ipython>=7.23.1->ipykernel->notebook>=5.0->jupyter-tensorboard) (3.0.20)\n",
      "Requirement already satisfied: setuptools>=18.5 in e:\\anaconda3\\envs\\env_breast_cancer\\lib\\site-packages (from ipython>=7.23.1->ipykernel->notebook>=5.0->jupyter-tensorboard) (58.0.4)\n",
      "Requirement already satisfied: pygments>=2.4.0 in e:\\anaconda3\\envs\\env_breast_cancer\\lib\\site-packages (from ipython>=7.23.1->ipykernel->notebook>=5.0->jupyter-tensorboard) (2.11.2)\n",
      "Requirement already satisfied: colorama in c:\\users\\admin\\appdata\\roaming\\python\\python38\\site-packages (from ipython>=7.23.1->ipykernel->notebook>=5.0->jupyter-tensorboard) (0.4.3)\n",
      "Requirement already satisfied: pickleshare in e:\\anaconda3\\envs\\env_breast_cancer\\lib\\site-packages (from ipython>=7.23.1->ipykernel->notebook>=5.0->jupyter-tensorboard) (0.7.5)\n",
      "Requirement already satisfied: decorator in e:\\anaconda3\\envs\\env_breast_cancer\\lib\\site-packages (from ipython>=7.23.1->ipykernel->notebook>=5.0->jupyter-tensorboard) (5.1.1)\n",
      "Requirement already satisfied: jedi>=0.16 in e:\\anaconda3\\envs\\env_breast_cancer\\lib\\site-packages (from ipython>=7.23.1->ipykernel->notebook>=5.0->jupyter-tensorboard) (0.18.1)\n",
      "Requirement already satisfied: backcall in e:\\anaconda3\\envs\\env_breast_cancer\\lib\\site-packages (from ipython>=7.23.1->ipykernel->notebook>=5.0->jupyter-tensorboard) (0.2.0)\n",
      "Requirement already satisfied: parso<0.9.0,>=0.8.0 in e:\\anaconda3\\envs\\env_breast_cancer\\lib\\site-packages (from jedi>=0.16->ipython>=7.23.1->ipykernel->notebook>=5.0->jupyter-tensorboard) (0.8.3)\n",
      "Requirement already satisfied: wcwidth in e:\\anaconda3\\envs\\env_breast_cancer\\lib\\site-packages (from prompt-toolkit!=3.0.0,!=3.0.1,<3.1.0,>=2.0.0->ipython>=7.23.1->ipykernel->notebook>=5.0->jupyter-tensorboard) (0.2.5)\n",
      "Requirement already satisfied: MarkupSafe>=2.0 in e:\\anaconda3\\envs\\env_breast_cancer\\lib\\site-packages (from jinja2->notebook>=5.0->jupyter-tensorboard) (2.0.1)\n",
      "Requirement already satisfied: tinycss2 in e:\\anaconda3\\envs\\env_breast_cancer\\lib\\site-packages (from nbconvert->notebook>=5.0->jupyter-tensorboard) (1.1.1)\n",
      "Requirement already satisfied: bleach in e:\\anaconda3\\envs\\env_breast_cancer\\lib\\site-packages (from nbconvert->notebook>=5.0->jupyter-tensorboard) (4.1.0)\n",
      "Requirement already satisfied: defusedxml in e:\\anaconda3\\envs\\env_breast_cancer\\lib\\site-packages (from nbconvert->notebook>=5.0->jupyter-tensorboard) (0.7.1)\n",
      "Requirement already satisfied: packaging in e:\\anaconda3\\envs\\env_breast_cancer\\lib\\site-packages (from nbconvert->notebook>=5.0->jupyter-tensorboard) (21.3)\n",
      "Requirement already satisfied: mistune<2,>=0.8.1 in e:\\anaconda3\\envs\\env_breast_cancer\\lib\\site-packages (from nbconvert->notebook>=5.0->jupyter-tensorboard) (0.8.4)\n",
      "Requirement already satisfied: pandocfilters>=1.4.1 in e:\\anaconda3\\envs\\env_breast_cancer\\lib\\site-packages (from nbconvert->notebook>=5.0->jupyter-tensorboard) (1.5.0)\n",
      "Requirement already satisfied: beautifulsoup4 in e:\\anaconda3\\envs\\env_breast_cancer\\lib\\site-packages (from nbconvert->notebook>=5.0->jupyter-tensorboard) (4.11.1)\n",
      "Requirement already satisfied: jupyterlab-pygments in e:\\anaconda3\\envs\\env_breast_cancer\\lib\\site-packages (from nbconvert->notebook>=5.0->jupyter-tensorboard) (0.1.2)\n",
      "Requirement already satisfied: nbclient>=0.5.0 in e:\\anaconda3\\envs\\env_breast_cancer\\lib\\site-packages (from nbconvert->notebook>=5.0->jupyter-tensorboard) (0.5.11)\n",
      "Requirement already satisfied: fastjsonschema in e:\\anaconda3\\envs\\env_breast_cancer\\lib\\site-packages (from nbformat->notebook>=5.0->jupyter-tensorboard) (2.15.3)\n",
      "Requirement already satisfied: jsonschema>=2.6 in e:\\anaconda3\\envs\\env_breast_cancer\\lib\\site-packages (from nbformat->notebook>=5.0->jupyter-tensorboard) (3.2.0)\n",
      "Requirement already satisfied: pyrsistent>=0.14.0 in e:\\anaconda3\\envs\\env_breast_cancer\\lib\\site-packages (from jsonschema>=2.6->nbformat->notebook>=5.0->jupyter-tensorboard) (0.18.0)\n",
      "Requirement already satisfied: attrs>=17.4.0 in e:\\anaconda3\\envs\\env_breast_cancer\\lib\\site-packages (from jsonschema>=2.6->nbformat->notebook>=5.0->jupyter-tensorboard) (21.4.0)\n",
      "Requirement already satisfied: soupsieve>1.2 in e:\\anaconda3\\envs\\env_breast_cancer\\lib\\site-packages (from beautifulsoup4->nbconvert->notebook>=5.0->jupyter-tensorboard) (2.3.2.post1)\n",
      "Requirement already satisfied: webencodings in e:\\anaconda3\\envs\\env_breast_cancer\\lib\\site-packages (from bleach->nbconvert->notebook>=5.0->jupyter-tensorboard) (0.5.1)\n",
      "Requirement already satisfied: pyparsing!=3.0.5,>=2.0.2 in e:\\anaconda3\\envs\\env_breast_cancer\\lib\\site-packages (from packaging->nbconvert->notebook>=5.0->jupyter-tensorboard) (3.0.4)\n",
      "Requirement already satisfied: executing in e:\\anaconda3\\envs\\env_breast_cancer\\lib\\site-packages (from stack-data->ipython>=7.23.1->ipykernel->notebook>=5.0->jupyter-tensorboard) (0.8.3)\n",
      "Requirement already satisfied: pure-eval in e:\\anaconda3\\envs\\env_breast_cancer\\lib\\site-packages (from stack-data->ipython>=7.23.1->ipykernel->notebook>=5.0->jupyter-tensorboard) (0.2.2)\n",
      "Requirement already satisfied: asttokens in e:\\anaconda3\\envs\\env_breast_cancer\\lib\\site-packages (from stack-data->ipython>=7.23.1->ipykernel->notebook>=5.0->jupyter-tensorboard) (2.0.5)\n"
     ]
    }
   ],
   "source": [
    "!pip install jupyter-tensorboard"
   ]
  },
  {
   "cell_type": "code",
   "execution_count": 27,
   "metadata": {},
   "outputs": [
    {
     "name": "stdout",
     "output_type": "stream",
     "text": [
      "[name: \"/device:CPU:0\"\n",
      "device_type: \"CPU\"\n",
      "memory_limit: 268435456\n",
      "locality {\n",
      "}\n",
      "incarnation: 4622444028505038430\n",
      ", name: \"/device:GPU:0\"\n",
      "device_type: \"GPU\"\n",
      "memory_limit: 2911292622\n",
      "locality {\n",
      "  bus_id: 1\n",
      "  links {\n",
      "  }\n",
      "}\n",
      "incarnation: 10017561588442507966\n",
      "physical_device_desc: \"device: 0, name: NVIDIA GeForce GTX 1050 Ti, pci bus id: 0000:01:00.0, compute capability: 6.1\"\n",
      "]\n"
     ]
    }
   ],
   "source": [
    "from tensorflow.python.client import device_lib \n",
    "print(device_lib.list_local_devices())"
   ]
  },
  {
   "cell_type": "code",
   "execution_count": 28,
   "metadata": {},
   "outputs": [
    {
     "name": "stdout",
     "output_type": "stream",
     "text": [
      "Num GPUs Available:  1\n"
     ]
    }
   ],
   "source": [
    "print(\"Num GPUs Available: \", len(tf.config.list_physical_devices('GPU')))"
   ]
  },
  {
   "cell_type": "code",
   "execution_count": 29,
   "metadata": {},
   "outputs": [
    {
     "name": "stdout",
     "output_type": "stream",
     "text": [
      "Epoch 1/100\n",
      "9/9 [==============================] - 5s 201ms/step - loss: 0.7472 - accuracy: 0.4943 - val_loss: 0.6933 - val_accuracy: 0.5303\n",
      "Epoch 2/100\n",
      "9/9 [==============================] - 0s 34ms/step - loss: 0.6878 - accuracy: 0.5817 - val_loss: 0.5773 - val_accuracy: 0.8485\n",
      "Epoch 3/100\n",
      "9/9 [==============================] - 0s 30ms/step - loss: 0.6690 - accuracy: 0.5779 - val_loss: 0.6554 - val_accuracy: 0.6364\n",
      "Epoch 4/100\n",
      "9/9 [==============================] - 0s 29ms/step - loss: 0.6457 - accuracy: 0.6654 - val_loss: 0.5325 - val_accuracy: 0.8182\n",
      "Epoch 5/100\n",
      "9/9 [==============================] - 0s 29ms/step - loss: 0.6316 - accuracy: 0.6502 - val_loss: 0.6978 - val_accuracy: 0.5455\n",
      "Epoch 6/100\n",
      "9/9 [==============================] - 0s 31ms/step - loss: 0.5869 - accuracy: 0.7262 - val_loss: 0.5947 - val_accuracy: 0.7424\n",
      "Epoch 7/100\n",
      "9/9 [==============================] - 0s 28ms/step - loss: 0.5430 - accuracy: 0.7338 - val_loss: 0.7323 - val_accuracy: 0.5606\n",
      "Epoch 8/100\n",
      "9/9 [==============================] - 0s 29ms/step - loss: 0.4742 - accuracy: 0.7529 - val_loss: 1.3319 - val_accuracy: 0.2576\n",
      "Epoch 9/100\n",
      "9/9 [==============================] - 0s 29ms/step - loss: 0.4757 - accuracy: 0.7605 - val_loss: 0.6991 - val_accuracy: 0.6515\n",
      "Epoch 10/100\n",
      "9/9 [==============================] - 0s 29ms/step - loss: 0.4576 - accuracy: 0.7643 - val_loss: 0.9941 - val_accuracy: 0.5152\n",
      "Epoch 11/100\n",
      "9/9 [==============================] - 0s 28ms/step - loss: 0.3869 - accuracy: 0.8403 - val_loss: 0.9962 - val_accuracy: 0.5455\n",
      "Epoch 12/100\n",
      "9/9 [==============================] - 0s 29ms/step - loss: 0.3482 - accuracy: 0.8441 - val_loss: 0.9547 - val_accuracy: 0.6061\n",
      "Epoch 13/100\n",
      "9/9 [==============================] - 0s 28ms/step - loss: 0.3234 - accuracy: 0.8517 - val_loss: 1.2020 - val_accuracy: 0.5152\n",
      "Epoch 14/100\n",
      "9/9 [==============================] - 0s 29ms/step - loss: 0.2693 - accuracy: 0.8897 - val_loss: 1.2842 - val_accuracy: 0.5758\n",
      "Epoch 15/100\n",
      "9/9 [==============================] - 0s 30ms/step - loss: 0.2694 - accuracy: 0.8935 - val_loss: 1.1629 - val_accuracy: 0.6364\n",
      "Epoch 16/100\n",
      "9/9 [==============================] - 0s 29ms/step - loss: 0.2133 - accuracy: 0.9125 - val_loss: 1.7775 - val_accuracy: 0.5455\n",
      "Epoch 17/100\n",
      "9/9 [==============================] - 0s 28ms/step - loss: 0.2082 - accuracy: 0.9011 - val_loss: 0.8966 - val_accuracy: 0.7273\n",
      "Epoch 18/100\n",
      "9/9 [==============================] - 0s 28ms/step - loss: 0.2620 - accuracy: 0.9011 - val_loss: 1.5949 - val_accuracy: 0.5152\n",
      "Epoch 19/100\n",
      "9/9 [==============================] - 0s 29ms/step - loss: 0.1773 - accuracy: 0.9278 - val_loss: 1.4468 - val_accuracy: 0.6364\n",
      "Epoch 20/100\n",
      "9/9 [==============================] - 0s 28ms/step - loss: 0.1439 - accuracy: 0.9392 - val_loss: 1.8012 - val_accuracy: 0.5909\n",
      "Epoch 21/100\n",
      "9/9 [==============================] - 0s 28ms/step - loss: 0.1113 - accuracy: 0.9658 - val_loss: 1.4888 - val_accuracy: 0.6364\n",
      "Epoch 22/100\n",
      "9/9 [==============================] - 0s 28ms/step - loss: 0.0900 - accuracy: 0.9696 - val_loss: 1.5818 - val_accuracy: 0.6515\n",
      "Epoch 23/100\n",
      "9/9 [==============================] - 0s 28ms/step - loss: 0.0707 - accuracy: 0.9848 - val_loss: 2.4408 - val_accuracy: 0.5303\n",
      "Epoch 24/100\n",
      "9/9 [==============================] - 0s 32ms/step - loss: 0.0690 - accuracy: 0.9810 - val_loss: 1.6545 - val_accuracy: 0.6515\n",
      "Epoch 25/100\n",
      "9/9 [==============================] - 0s 28ms/step - loss: 0.0710 - accuracy: 0.9810 - val_loss: 1.9095 - val_accuracy: 0.6061\n",
      "Epoch 26/100\n",
      "9/9 [==============================] - 0s 28ms/step - loss: 0.0367 - accuracy: 1.0000 - val_loss: 2.2761 - val_accuracy: 0.5606\n",
      "Epoch 27/100\n",
      "9/9 [==============================] - 0s 28ms/step - loss: 0.0228 - accuracy: 1.0000 - val_loss: 2.3847 - val_accuracy: 0.5909\n",
      "Epoch 28/100\n",
      "9/9 [==============================] - 0s 28ms/step - loss: 0.0205 - accuracy: 0.9962 - val_loss: 2.3734 - val_accuracy: 0.6212\n",
      "Epoch 29/100\n",
      "9/9 [==============================] - 0s 31ms/step - loss: 0.0182 - accuracy: 1.0000 - val_loss: 2.6974 - val_accuracy: 0.5758\n",
      "Epoch 30/100\n",
      "9/9 [==============================] - 0s 29ms/step - loss: 0.0139 - accuracy: 1.0000 - val_loss: 2.8950 - val_accuracy: 0.5909\n",
      "Epoch 31/100\n",
      "9/9 [==============================] - 0s 28ms/step - loss: 0.0091 - accuracy: 1.0000 - val_loss: 2.4505 - val_accuracy: 0.6818\n",
      "Epoch 32/100\n",
      "9/9 [==============================] - 0s 28ms/step - loss: 0.0058 - accuracy: 1.0000 - val_loss: 3.0788 - val_accuracy: 0.6212\n",
      "Epoch 33/100\n",
      "9/9 [==============================] - 0s 28ms/step - loss: 0.0059 - accuracy: 1.0000 - val_loss: 2.9668 - val_accuracy: 0.6515\n",
      "Epoch 34/100\n",
      "9/9 [==============================] - 0s 28ms/step - loss: 0.0042 - accuracy: 1.0000 - val_loss: 3.0604 - val_accuracy: 0.6515\n",
      "Epoch 35/100\n",
      "9/9 [==============================] - 0s 29ms/step - loss: 0.0029 - accuracy: 1.0000 - val_loss: 3.2021 - val_accuracy: 0.6212\n",
      "Epoch 36/100\n",
      "9/9 [==============================] - 0s 28ms/step - loss: 0.0022 - accuracy: 1.0000 - val_loss: 3.0161 - val_accuracy: 0.6515\n",
      "Epoch 37/100\n",
      "9/9 [==============================] - 0s 28ms/step - loss: 0.0019 - accuracy: 1.0000 - val_loss: 3.1390 - val_accuracy: 0.6364\n",
      "Epoch 38/100\n",
      "9/9 [==============================] - 0s 28ms/step - loss: 0.0016 - accuracy: 1.0000 - val_loss: 3.2098 - val_accuracy: 0.6515\n",
      "Epoch 39/100\n",
      "9/9 [==============================] - 0s 28ms/step - loss: 0.0015 - accuracy: 1.0000 - val_loss: 3.2738 - val_accuracy: 0.6212\n",
      "Epoch 40/100\n",
      "9/9 [==============================] - 0s 29ms/step - loss: 0.0013 - accuracy: 1.0000 - val_loss: 3.2918 - val_accuracy: 0.6364\n",
      "Epoch 41/100\n",
      "9/9 [==============================] - 0s 29ms/step - loss: 0.0012 - accuracy: 1.0000 - val_loss: 3.3124 - val_accuracy: 0.6364\n",
      "Epoch 42/100\n",
      "9/9 [==============================] - 0s 28ms/step - loss: 0.0011 - accuracy: 1.0000 - val_loss: 3.3114 - val_accuracy: 0.6364\n",
      "Epoch 43/100\n",
      "9/9 [==============================] - 0s 30ms/step - loss: 0.0010 - accuracy: 1.0000 - val_loss: 3.3611 - val_accuracy: 0.6364\n",
      "Epoch 44/100\n",
      "9/9 [==============================] - 0s 30ms/step - loss: 9.6272e-04 - accuracy: 1.0000 - val_loss: 3.4510 - val_accuracy: 0.6364\n",
      "Epoch 45/100\n",
      "9/9 [==============================] - 0s 30ms/step - loss: 8.8508e-04 - accuracy: 1.0000 - val_loss: 3.4490 - val_accuracy: 0.6364\n",
      "Epoch 46/100\n",
      "9/9 [==============================] - 0s 28ms/step - loss: 7.9864e-04 - accuracy: 1.0000 - val_loss: 3.4559 - val_accuracy: 0.6364\n",
      "Epoch 47/100\n",
      "9/9 [==============================] - 0s 29ms/step - loss: 7.6673e-04 - accuracy: 1.0000 - val_loss: 3.4159 - val_accuracy: 0.6515\n",
      "Epoch 48/100\n",
      "9/9 [==============================] - 0s 31ms/step - loss: 7.1692e-04 - accuracy: 1.0000 - val_loss: 3.4440 - val_accuracy: 0.6364\n",
      "Epoch 49/100\n",
      "9/9 [==============================] - 0s 29ms/step - loss: 6.6941e-04 - accuracy: 1.0000 - val_loss: 3.4944 - val_accuracy: 0.6364\n",
      "Epoch 50/100\n",
      "9/9 [==============================] - 0s 29ms/step - loss: 6.1713e-04 - accuracy: 1.0000 - val_loss: 3.4361 - val_accuracy: 0.6515\n",
      "Epoch 51/100\n",
      "9/9 [==============================] - 0s 28ms/step - loss: 6.1200e-04 - accuracy: 1.0000 - val_loss: 3.4956 - val_accuracy: 0.6364\n",
      "Epoch 52/100\n",
      "9/9 [==============================] - 0s 29ms/step - loss: 5.7027e-04 - accuracy: 1.0000 - val_loss: 3.5228 - val_accuracy: 0.6364\n",
      "Epoch 53/100\n",
      "9/9 [==============================] - 0s 29ms/step - loss: 5.1740e-04 - accuracy: 1.0000 - val_loss: 3.5499 - val_accuracy: 0.6364\n",
      "Epoch 54/100\n",
      "9/9 [==============================] - 0s 29ms/step - loss: 5.0844e-04 - accuracy: 1.0000 - val_loss: 3.5862 - val_accuracy: 0.6364\n",
      "Epoch 55/100\n",
      "9/9 [==============================] - 0s 29ms/step - loss: 4.7016e-04 - accuracy: 1.0000 - val_loss: 3.6554 - val_accuracy: 0.6212\n",
      "Epoch 56/100\n",
      "9/9 [==============================] - 0s 29ms/step - loss: 4.8515e-04 - accuracy: 1.0000 - val_loss: 3.5874 - val_accuracy: 0.6364\n",
      "Epoch 57/100\n",
      "9/9 [==============================] - 0s 29ms/step - loss: 4.3078e-04 - accuracy: 1.0000 - val_loss: 3.5767 - val_accuracy: 0.6364\n",
      "Epoch 58/100\n",
      "9/9 [==============================] - 0s 29ms/step - loss: 4.1402e-04 - accuracy: 1.0000 - val_loss: 3.5931 - val_accuracy: 0.6364\n",
      "Epoch 59/100\n",
      "9/9 [==============================] - 0s 28ms/step - loss: 4.0877e-04 - accuracy: 1.0000 - val_loss: 3.5989 - val_accuracy: 0.6364\n",
      "Epoch 60/100\n",
      "9/9 [==============================] - 0s 29ms/step - loss: 3.7307e-04 - accuracy: 1.0000 - val_loss: 3.7291 - val_accuracy: 0.6212\n",
      "Epoch 61/100\n",
      "9/9 [==============================] - 0s 29ms/step - loss: 3.8828e-04 - accuracy: 1.0000 - val_loss: 3.6955 - val_accuracy: 0.6212\n",
      "Epoch 62/100\n",
      "9/9 [==============================] - 0s 29ms/step - loss: 3.4224e-04 - accuracy: 1.0000 - val_loss: 3.6310 - val_accuracy: 0.6364\n",
      "Epoch 63/100\n",
      "9/9 [==============================] - 0s 29ms/step - loss: 3.3789e-04 - accuracy: 1.0000 - val_loss: 3.6359 - val_accuracy: 0.6364\n",
      "Epoch 64/100\n",
      "9/9 [==============================] - 0s 29ms/step - loss: 3.1905e-04 - accuracy: 1.0000 - val_loss: 3.7293 - val_accuracy: 0.6364\n",
      "Epoch 65/100\n",
      "9/9 [==============================] - 0s 28ms/step - loss: 3.0569e-04 - accuracy: 1.0000 - val_loss: 3.7436 - val_accuracy: 0.6364\n",
      "Epoch 66/100\n",
      "9/9 [==============================] - 0s 28ms/step - loss: 2.9272e-04 - accuracy: 1.0000 - val_loss: 3.7398 - val_accuracy: 0.6364\n",
      "Epoch 67/100\n",
      "9/9 [==============================] - 0s 28ms/step - loss: 2.8134e-04 - accuracy: 1.0000 - val_loss: 3.7652 - val_accuracy: 0.6212\n",
      "Epoch 68/100\n",
      "9/9 [==============================] - 0s 29ms/step - loss: 2.6881e-04 - accuracy: 1.0000 - val_loss: 3.7718 - val_accuracy: 0.6212\n",
      "Epoch 69/100\n",
      "9/9 [==============================] - 0s 29ms/step - loss: 2.6921e-04 - accuracy: 1.0000 - val_loss: 3.7380 - val_accuracy: 0.6212\n",
      "Epoch 70/100\n",
      "9/9 [==============================] - 0s 28ms/step - loss: 2.5342e-04 - accuracy: 1.0000 - val_loss: 3.8004 - val_accuracy: 0.6212\n",
      "Epoch 71/100\n",
      "9/9 [==============================] - 0s 30ms/step - loss: 2.4268e-04 - accuracy: 1.0000 - val_loss: 3.7251 - val_accuracy: 0.6364\n",
      "Epoch 72/100\n",
      "9/9 [==============================] - 0s 29ms/step - loss: 2.3628e-04 - accuracy: 1.0000 - val_loss: 3.7745 - val_accuracy: 0.6364\n",
      "Epoch 73/100\n",
      "9/9 [==============================] - 0s 29ms/step - loss: 2.2384e-04 - accuracy: 1.0000 - val_loss: 3.8147 - val_accuracy: 0.6212\n",
      "Epoch 74/100\n",
      "9/9 [==============================] - 0s 29ms/step - loss: 2.2025e-04 - accuracy: 1.0000 - val_loss: 3.8366 - val_accuracy: 0.6212\n",
      "Epoch 75/100\n",
      "9/9 [==============================] - 0s 28ms/step - loss: 2.1334e-04 - accuracy: 1.0000 - val_loss: 3.7985 - val_accuracy: 0.6212\n",
      "Epoch 76/100\n",
      "9/9 [==============================] - 0s 29ms/step - loss: 2.0505e-04 - accuracy: 1.0000 - val_loss: 3.8128 - val_accuracy: 0.6212\n",
      "Epoch 77/100\n",
      "9/9 [==============================] - 0s 29ms/step - loss: 1.9851e-04 - accuracy: 1.0000 - val_loss: 3.8525 - val_accuracy: 0.6212\n",
      "Epoch 78/100\n",
      "9/9 [==============================] - 0s 29ms/step - loss: 1.9167e-04 - accuracy: 1.0000 - val_loss: 3.8603 - val_accuracy: 0.6212\n",
      "Epoch 79/100\n",
      "9/9 [==============================] - 0s 29ms/step - loss: 1.8429e-04 - accuracy: 1.0000 - val_loss: 3.8876 - val_accuracy: 0.6212\n",
      "Epoch 80/100\n",
      "9/9 [==============================] - 0s 29ms/step - loss: 1.7768e-04 - accuracy: 1.0000 - val_loss: 3.9146 - val_accuracy: 0.6212\n",
      "Epoch 81/100\n",
      "9/9 [==============================] - 0s 29ms/step - loss: 1.7353e-04 - accuracy: 1.0000 - val_loss: 3.9347 - val_accuracy: 0.6212\n",
      "Epoch 82/100\n",
      "9/9 [==============================] - 0s 29ms/step - loss: 1.6936e-04 - accuracy: 1.0000 - val_loss: 3.9602 - val_accuracy: 0.6212\n",
      "Epoch 83/100\n",
      "9/9 [==============================] - 0s 29ms/step - loss: 1.6617e-04 - accuracy: 1.0000 - val_loss: 3.8860 - val_accuracy: 0.6212\n",
      "Epoch 84/100\n",
      "9/9 [==============================] - 0s 29ms/step - loss: 1.5959e-04 - accuracy: 1.0000 - val_loss: 3.9161 - val_accuracy: 0.6212\n",
      "Epoch 85/100\n",
      "9/9 [==============================] - 0s 41ms/step - loss: 1.5414e-04 - accuracy: 1.0000 - val_loss: 3.9577 - val_accuracy: 0.6212\n",
      "Epoch 86/100\n",
      "9/9 [==============================] - 0s 29ms/step - loss: 1.4902e-04 - accuracy: 1.0000 - val_loss: 4.0118 - val_accuracy: 0.6061\n",
      "Epoch 87/100\n",
      "9/9 [==============================] - 0s 29ms/step - loss: 1.4653e-04 - accuracy: 1.0000 - val_loss: 4.0100 - val_accuracy: 0.6061\n",
      "Epoch 88/100\n",
      "9/9 [==============================] - 0s 29ms/step - loss: 1.4257e-04 - accuracy: 1.0000 - val_loss: 3.9958 - val_accuracy: 0.6212\n",
      "Epoch 89/100\n",
      "9/9 [==============================] - 0s 29ms/step - loss: 1.3899e-04 - accuracy: 1.0000 - val_loss: 4.0127 - val_accuracy: 0.6061\n",
      "Epoch 90/100\n",
      "9/9 [==============================] - 0s 29ms/step - loss: 1.3412e-04 - accuracy: 1.0000 - val_loss: 4.0018 - val_accuracy: 0.6212\n",
      "Epoch 91/100\n",
      "9/9 [==============================] - 0s 28ms/step - loss: 1.2991e-04 - accuracy: 1.0000 - val_loss: 4.0011 - val_accuracy: 0.6212\n",
      "Epoch 92/100\n",
      "9/9 [==============================] - 0s 30ms/step - loss: 1.2659e-04 - accuracy: 1.0000 - val_loss: 4.0109 - val_accuracy: 0.6212\n",
      "Epoch 93/100\n",
      "9/9 [==============================] - 0s 29ms/step - loss: 1.2393e-04 - accuracy: 1.0000 - val_loss: 4.0308 - val_accuracy: 0.6212\n",
      "Epoch 94/100\n",
      "9/9 [==============================] - 0s 29ms/step - loss: 1.2033e-04 - accuracy: 1.0000 - val_loss: 4.0434 - val_accuracy: 0.6212\n",
      "Epoch 95/100\n",
      "9/9 [==============================] - 0s 28ms/step - loss: 1.1741e-04 - accuracy: 1.0000 - val_loss: 4.0466 - val_accuracy: 0.6364\n",
      "Epoch 96/100\n",
      "9/9 [==============================] - 0s 30ms/step - loss: 1.1525e-04 - accuracy: 1.0000 - val_loss: 4.0522 - val_accuracy: 0.6212\n",
      "Epoch 97/100\n",
      "9/9 [==============================] - 0s 29ms/step - loss: 1.1118e-04 - accuracy: 1.0000 - val_loss: 4.0470 - val_accuracy: 0.6212\n",
      "Epoch 98/100\n",
      "9/9 [==============================] - 0s 29ms/step - loss: 1.0996e-04 - accuracy: 1.0000 - val_loss: 4.0747 - val_accuracy: 0.6212\n",
      "Epoch 99/100\n",
      "9/9 [==============================] - 0s 29ms/step - loss: 1.0648e-04 - accuracy: 1.0000 - val_loss: 4.0675 - val_accuracy: 0.6212\n",
      "Epoch 100/100\n",
      "9/9 [==============================] - 0s 28ms/step - loss: 1.0371e-04 - accuracy: 1.0000 - val_loss: 4.0789 - val_accuracy: 0.6364\n"
     ]
    }
   ],
   "source": [
    "from tensorflow.keras.callbacks import TensorBoard\n",
    "tensorboardDenso = TensorBoard(log_dir = 'logs/cnn')\n",
    "# https://www.tensorflow.org/guide/gpu#manual_device_placement\n",
    "with tf.device('/GPU:0'):\n",
    "    model.fit(x,y,\n",
    "              batch_size = 32,\n",
    "              validation_split=0.2,\n",
    "              epochs=100,\n",
    "              callbacks=[tensorboardDenso])"
   ]
  },
  {
   "cell_type": "code",
   "execution_count": null,
   "metadata": {},
   "outputs": [],
   "source": [
    "# https://www.dlology.com/blog/how-to-run-tensorboard-in-jupyter-notebook/"
   ]
  },
  {
   "cell_type": "code",
   "execution_count": 1,
   "metadata": {},
   "outputs": [],
   "source": [
    "%load_ext tensorboard"
   ]
  },
  {
   "cell_type": "code",
   "execution_count": null,
   "metadata": {},
   "outputs": [],
   "source": [
    "# https://stackoverflow.com/questions/56036922/how-to-kill-tensorboard-with-tensorflow2-jupyter-win"
   ]
  },
  {
   "cell_type": "code",
   "execution_count": 4,
   "metadata": {},
   "outputs": [
    {
     "data": {
      "text/html": [
       "\n",
       "      <iframe id=\"tensorboard-frame-5273b608316451af\" width=\"100%\" height=\"800\" frameborder=\"0\">\n",
       "      </iframe>\n",
       "      <script>\n",
       "        (function() {\n",
       "          const frame = document.getElementById(\"tensorboard-frame-5273b608316451af\");\n",
       "          const url = new URL(\"/\", window.location);\n",
       "          const port = 6006;\n",
       "          if (port) {\n",
       "            url.port = port;\n",
       "          }\n",
       "          frame.src = url;\n",
       "        })();\n",
       "      </script>\n",
       "    "
      ],
      "text/plain": [
       "<IPython.core.display.HTML object>"
      ]
     },
     "metadata": {},
     "output_type": "display_data"
    }
   ],
   "source": [
    "%tensorboard --logdir logs"
   ]
  },
  {
   "cell_type": "code",
   "execution_count": 30,
   "metadata": {},
   "outputs": [
    {
     "data": {
      "text/plain": [
       "N    207\n",
       "T    122\n",
       "Name: abn_class, dtype: Int64"
      ]
     },
     "execution_count": 30,
     "metadata": {},
     "output_type": "execute_result"
    }
   ],
   "source": [
    "df[\"abn_class\"].astype(\"string\").value_counts()"
   ]
  },
  {
   "cell_type": "code",
   "execution_count": null,
   "metadata": {},
   "outputs": [],
   "source": []
  }
 ],
 "metadata": {
  "kernelspec": {
   "display_name": "Python 3 (ipykernel)",
   "language": "python",
   "name": "python3"
  },
  "language_info": {
   "codemirror_mode": {
    "name": "ipython",
    "version": 3
   },
   "file_extension": ".py",
   "mimetype": "text/x-python",
   "name": "python",
   "nbconvert_exporter": "python",
   "pygments_lexer": "ipython3",
   "version": "3.8.12"
  }
 },
 "nbformat": 4,
 "nbformat_minor": 4
}