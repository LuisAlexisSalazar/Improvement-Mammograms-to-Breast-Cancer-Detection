{
 "cells": [
  {
   "cell_type": "code",
   "execution_count": 16,
   "metadata": {
    "pycharm": {
     "name": "#%%\n"
    }
   },
   "outputs": [
    {
     "name": "stdout",
     "output_type": "stream",
     "text": [
      "['B' None 'M']\n"
     ]
    },
    {
     "data": {
      "text/plain": "abn_class\nB     68\nM     54\nN    207\nName: abn_class, dtype: int64"
     },
     "execution_count": 16,
     "metadata": {},
     "output_type": "execute_result"
    }
   ],
   "source": [
    "from src.download_dataset.download import create_df_dataset_MIAS,create_df_dataset_MINI_DDSM\n",
    "from src.settings.config import *\n",
    "\n",
    "df = create_df_dataset_MIAS()\n",
    "df.head()\n",
    "df_temp = df.abn_class.unique()\n",
    "print(df_temp)\n",
    "df.abn_class.fillna(value=\"N\",inplace=True)\n",
    "df.groupby(['abn_class'])['abn_class'].count()\n",
    "# print(\"acabo\")"
   ]
  },
  {
   "cell_type": "code",
   "execution_count": 20,
   "metadata": {
    "pycharm": {
     "name": "#%%\n"
    }
   },
   "outputs": [
    {
     "name": "stdout",
     "output_type": "stream",
     "text": [
      "['Benign' 'Cancer' 'Normal']\n"
     ]
    },
    {
     "data": {
      "text/plain": "Status\nBenign    2684\nCancer    2716\nNormal    2408\nName: Status, dtype: int64"
     },
     "execution_count": 20,
     "metadata": {},
     "output_type": "execute_result"
    }
   ],
   "source": [
    "df = create_df_dataset_MINI_DDSM()\n",
    "# df[:20]\n",
    "df_temp = df.Status.unique()\n",
    "print(df_temp)\n",
    "df.groupby(['Status'])['Status'].count()"
   ]
  }
 ],
 "metadata": {
  "kernelspec": {
   "display_name": "Python 3 (ipykernel)",
   "language": "python",
   "name": "python3"
  },
  "language_info": {
   "codemirror_mode": {
    "name": "ipython",
    "version": 3
   },
   "file_extension": ".py",
   "mimetype": "text/x-python",
   "name": "python",
   "nbconvert_exporter": "python",
   "pygments_lexer": "ipython3",
   "version": "3.8.12"
  }
 },
 "nbformat": 4,
 "nbformat_minor": 1
}