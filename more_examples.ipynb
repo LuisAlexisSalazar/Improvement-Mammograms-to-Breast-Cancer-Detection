{
 "cells": [
  {
   "cell_type": "code",
   "execution_count": 1,
   "metadata": {
    "collapsed": true
   },
   "outputs": [
    {
     "name": "stdout",
     "output_type": "stream",
     "text": [
      "['Benign', 'BoundaryMask.png', 'Cancer', 'DataWMask.xlsx', 'Normal']\n"
     ]
    }
   ],
   "source": [
    "from src.download_dataset.download import *\n",
    "df = create_df_dataset_MINI_DDSM()"
   ]
  },
  {
   "cell_type": "code",
   "execution_count": 2,
   "outputs": [
    {
     "data": {
      "text/plain": "                             fullPath                fileName View   Side  \\\n0    Benign\\0029\\C_0029_1.LEFT_CC.jpg    C_0029_1.LEFT_CC.jpg   CC   LEFT   \n1   Benign\\0029\\C_0029_1.LEFT_MLO.jpg   C_0029_1.LEFT_MLO.jpg  MLO   LEFT   \n2   Benign\\0029\\C_0029_1.RIGHT_CC.jpg   C_0029_1.RIGHT_CC.jpg   CC  RIGHT   \n3  Benign\\0029\\C_0029_1.RIGHT_MLO.jpg  C_0029_1.RIGHT_MLO.jpg  MLO  RIGHT   \n4    Benign\\0033\\C_0033_1.LEFT_CC.jpg    C_0033_1.LEFT_CC.jpg   CC   LEFT   \n\n   Status                          Tumour_Contour Tumour_Contour2   Age  \\\n0  Benign   Benign\\0029\\C_0029_1.LEFT_CC_Mask.jpg               -  66.0   \n1  Benign  Benign\\0029\\C_0029_1.LEFT_MLO_Mask.jpg               -  66.0   \n2  Benign                                       -               -  66.0   \n3  Benign                                       -               -  66.0   \n4  Benign                                       -               -  60.0   \n\n   Density  \n0        3  \n1        3  \n2        3  \n3        3  \n4        3  ",
      "text/html": "<div>\n<style scoped>\n    .dataframe tbody tr th:only-of-type {\n        vertical-align: middle;\n    }\n\n    .dataframe tbody tr th {\n        vertical-align: top;\n    }\n\n    .dataframe thead th {\n        text-align: right;\n    }\n</style>\n<table border=\"1\" class=\"dataframe\">\n  <thead>\n    <tr style=\"text-align: right;\">\n      <th></th>\n      <th>fullPath</th>\n      <th>fileName</th>\n      <th>View</th>\n      <th>Side</th>\n      <th>Status</th>\n      <th>Tumour_Contour</th>\n      <th>Tumour_Contour2</th>\n      <th>Age</th>\n      <th>Density</th>\n    </tr>\n  </thead>\n  <tbody>\n    <tr>\n      <th>0</th>\n      <td>Benign\\0029\\C_0029_1.LEFT_CC.jpg</td>\n      <td>C_0029_1.LEFT_CC.jpg</td>\n      <td>CC</td>\n      <td>LEFT</td>\n      <td>Benign</td>\n      <td>Benign\\0029\\C_0029_1.LEFT_CC_Mask.jpg</td>\n      <td>-</td>\n      <td>66.0</td>\n      <td>3</td>\n    </tr>\n    <tr>\n      <th>1</th>\n      <td>Benign\\0029\\C_0029_1.LEFT_MLO.jpg</td>\n      <td>C_0029_1.LEFT_MLO.jpg</td>\n      <td>MLO</td>\n      <td>LEFT</td>\n      <td>Benign</td>\n      <td>Benign\\0029\\C_0029_1.LEFT_MLO_Mask.jpg</td>\n      <td>-</td>\n      <td>66.0</td>\n      <td>3</td>\n    </tr>\n    <tr>\n      <th>2</th>\n      <td>Benign\\0029\\C_0029_1.RIGHT_CC.jpg</td>\n      <td>C_0029_1.RIGHT_CC.jpg</td>\n      <td>CC</td>\n      <td>RIGHT</td>\n      <td>Benign</td>\n      <td>-</td>\n      <td>-</td>\n      <td>66.0</td>\n      <td>3</td>\n    </tr>\n    <tr>\n      <th>3</th>\n      <td>Benign\\0029\\C_0029_1.RIGHT_MLO.jpg</td>\n      <td>C_0029_1.RIGHT_MLO.jpg</td>\n      <td>MLO</td>\n      <td>RIGHT</td>\n      <td>Benign</td>\n      <td>-</td>\n      <td>-</td>\n      <td>66.0</td>\n      <td>3</td>\n    </tr>\n    <tr>\n      <th>4</th>\n      <td>Benign\\0033\\C_0033_1.LEFT_CC.jpg</td>\n      <td>C_0033_1.LEFT_CC.jpg</td>\n      <td>CC</td>\n      <td>LEFT</td>\n      <td>Benign</td>\n      <td>-</td>\n      <td>-</td>\n      <td>60.0</td>\n      <td>3</td>\n    </tr>\n  </tbody>\n</table>\n</div>"
     },
     "execution_count": 2,
     "metadata": {},
     "output_type": "execute_result"
    }
   ],
   "source": [
    "df.head()"
   ],
   "metadata": {
    "collapsed": false,
    "pycharm": {
     "name": "#%%\n"
    }
   }
  },
  {
   "cell_type": "code",
   "execution_count": 3,
   "outputs": [
    {
     "data": {
      "text/plain": "array(['Benign', 'Cancer', 'Normal'], dtype=object)"
     },
     "execution_count": 3,
     "metadata": {},
     "output_type": "execute_result"
    }
   ],
   "source": [
    "df[\"Status\"].unique()"
   ],
   "metadata": {
    "collapsed": false,
    "pycharm": {
     "name": "#%%\n"
    }
   }
  },
  {
   "cell_type": "code",
   "execution_count": 4,
   "outputs": [
    {
     "data": {
      "text/plain": "array([3, 2, 1, 4, 0], dtype=int64)"
     },
     "execution_count": 4,
     "metadata": {},
     "output_type": "execute_result"
    }
   ],
   "source": [
    "df[\"Density].unique()"
   ],
   "metadata": {
    "collapsed": false,
    "pycharm": {
     "name": "#%%\n"
    }
   }
  }
 ],
 "metadata": {
  "kernelspec": {
   "display_name": "Python 3",
   "language": "python",
   "name": "python3"
  },
  "language_info": {
   "codemirror_mode": {
    "name": "ipython",
    "version": 2
   },
   "file_extension": ".py",
   "mimetype": "text/x-python",
   "name": "python",
   "nbconvert_exporter": "python",
   "pygments_lexer": "ipython2",
   "version": "2.7.6"
  }
 },
 "nbformat": 4,
 "nbformat_minor": 0
}